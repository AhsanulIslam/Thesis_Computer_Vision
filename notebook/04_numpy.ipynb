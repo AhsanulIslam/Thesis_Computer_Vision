{
  "nbformat": 4,
  "nbformat_minor": 0,
  "metadata": {
    "colab": {
      "name": "04_numpy.ipynb",
      "provenance": []
    },
    "kernelspec": {
      "name": "python3",
      "display_name": "Python 3"
    }
  },
  "cells": [
    {
      "cell_type": "code",
      "metadata": {
        "id": "vq7t3Gv4S-d0",
        "colab_type": "code",
        "colab": {}
      },
      "source": [
        "import numpy as np"
      ],
      "execution_count": 2,
      "outputs": []
    },
    {
      "cell_type": "code",
      "metadata": {
        "id": "sTs2Pq3jTbIK",
        "colab_type": "code",
        "colab": {
          "base_uri": "https://localhost:8080/",
          "height": 85
        },
        "outputId": "f55421f8-b14e-4e6b-99c0-84eb9f418ea2"
      },
      "source": [
        "a = np.array([1,2,3])  # rank 1 array\n",
        "print(type(a))\n",
        "print(a.shape)\n",
        "print(a[0], a[1], a[2])\n",
        "\n",
        "a[2] = 5\n",
        "print(a)"
      ],
      "execution_count": 6,
      "outputs": [
        {
          "output_type": "stream",
          "text": [
            "<class 'numpy.ndarray'>\n",
            "(3,)\n",
            "1 2 3\n",
            "[1 2 5]\n"
          ],
          "name": "stdout"
        }
      ]
    },
    {
      "cell_type": "code",
      "metadata": {
        "id": "JR4WLrJCT7wf",
        "colab_type": "code",
        "colab": {
          "base_uri": "https://localhost:8080/",
          "height": 85
        },
        "outputId": "e78b1416-6eb3-458c-bc20-7f760011d220"
      },
      "source": [
        "b = np.array([\n",
        "                [1,2,3],\n",
        "                [4,5,6],\n",
        "                [7,8,9]\n",
        "            ])  # creating a rank 2 array\n",
        "print(type(b))\n",
        "print(b.shape)\n",
        "print(b[0][1])\n",
        "print(b[2][1])"
      ],
      "execution_count": 13,
      "outputs": [
        {
          "output_type": "stream",
          "text": [
            "<class 'numpy.ndarray'>\n",
            "(3, 3)\n",
            "2\n",
            "8\n"
          ],
          "name": "stdout"
        }
      ]
    },
    {
      "cell_type": "code",
      "metadata": {
        "id": "qAYxnUBAU-3V",
        "colab_type": "code",
        "colab": {
          "base_uri": "https://localhost:8080/",
          "height": 68
        },
        "outputId": "a642b660-bcc9-471a-9c75-167fd34fcd1d"
      },
      "source": [
        "arr_zero = np.zeros( (3,3) )\n",
        "print(arr_zero)"
      ],
      "execution_count": 14,
      "outputs": [
        {
          "output_type": "stream",
          "text": [
            "[[0. 0. 0.]\n",
            " [0. 0. 0.]\n",
            " [0. 0. 0.]]\n"
          ],
          "name": "stdout"
        }
      ]
    },
    {
      "cell_type": "code",
      "metadata": {
        "id": "DsEejJPvWY5h",
        "colab_type": "code",
        "colab": {
          "base_uri": "https://localhost:8080/",
          "height": 68
        },
        "outputId": "ba646b1b-d098-4264-a143-8f265287dcfa"
      },
      "source": [
        "arr_ones = np.ones( (3,3) )\n",
        "print(arr_ones)"
      ],
      "execution_count": 15,
      "outputs": [
        {
          "output_type": "stream",
          "text": [
            "[[1. 1. 1.]\n",
            " [1. 1. 1.]\n",
            " [1. 1. 1.]]\n"
          ],
          "name": "stdout"
        }
      ]
    },
    {
      "cell_type": "code",
      "metadata": {
        "id": "id1kgichWl52",
        "colab_type": "code",
        "colab": {
          "base_uri": "https://localhost:8080/",
          "height": 68
        },
        "outputId": "740289d0-2fe8-440d-88c5-356fb66e1b15"
      },
      "source": [
        "arr_constant = np.full( (3,3), 4 )\n",
        "print(arr_constant)"
      ],
      "execution_count": 16,
      "outputs": [
        {
          "output_type": "stream",
          "text": [
            "[[4 4 4]\n",
            " [4 4 4]\n",
            " [4 4 4]]\n"
          ],
          "name": "stdout"
        }
      ]
    },
    {
      "cell_type": "code",
      "metadata": {
        "id": "aNRwn65-W6ov",
        "colab_type": "code",
        "colab": {
          "base_uri": "https://localhost:8080/",
          "height": 102
        },
        "outputId": "3e3625e7-db8e-43fa-b38c-e57b13512b39"
      },
      "source": [
        "arr_identity = np.eye(5)\n",
        "print(arr_identity)"
      ],
      "execution_count": 17,
      "outputs": [
        {
          "output_type": "stream",
          "text": [
            "[[1. 0. 0. 0. 0.]\n",
            " [0. 1. 0. 0. 0.]\n",
            " [0. 0. 1. 0. 0.]\n",
            " [0. 0. 0. 1. 0.]\n",
            " [0. 0. 0. 0. 1.]]\n"
          ],
          "name": "stdout"
        }
      ]
    },
    {
      "cell_type": "code",
      "metadata": {
        "id": "Hhw_b2LvXHrX",
        "colab_type": "code",
        "colab": {
          "base_uri": "https://localhost:8080/",
          "height": 102
        },
        "outputId": "d4fd87dd-4cc3-4749-94b8-283d5591033d"
      },
      "source": [
        "arr_rand = np.random.random((5,5))\n",
        "print(arr_rand)"
      ],
      "execution_count": 18,
      "outputs": [
        {
          "output_type": "stream",
          "text": [
            "[[0.57142232 0.11888621 0.16789089 0.46534971 0.39035603]\n",
            " [0.20306672 0.0273929  0.61657362 0.09649372 0.48697517]\n",
            " [0.25587326 0.89868228 0.23775086 0.85930161 0.10685295]\n",
            " [0.04683767 0.56823908 0.64857312 0.83438728 0.69150069]\n",
            " [0.16403216 0.22020593 0.635187   0.93445785 0.10979501]]\n"
          ],
          "name": "stdout"
        }
      ]
    },
    {
      "cell_type": "code",
      "metadata": {
        "id": "gOjCaIw2X4Tp",
        "colab_type": "code",
        "colab": {
          "base_uri": "https://localhost:8080/",
          "height": 68
        },
        "outputId": "e7d2f599-52f6-4652-fd17-91715efc656f"
      },
      "source": [
        "# Array Indexing\n",
        "\n",
        "a = np.array([\n",
        "                [1,2,3,4,5],\n",
        "                [6,7,8,9,10],\n",
        "                [11,12,13,14,15]\n",
        "            ])\n",
        "print(a)"
      ],
      "execution_count": 19,
      "outputs": [
        {
          "output_type": "stream",
          "text": [
            "[[ 1  2  3  4  5]\n",
            " [ 6  7  8  9 10]\n",
            " [11 12 13 14 15]]\n"
          ],
          "name": "stdout"
        }
      ]
    },
    {
      "cell_type": "code",
      "metadata": {
        "id": "OMQeGuT2YcYi",
        "colab_type": "code",
        "colab": {
          "base_uri": "https://localhost:8080/",
          "height": 68
        },
        "outputId": "341b1907-57e7-4e3b-d02f-ef85df73f40a"
      },
      "source": [
        "b = a[1:3, 2:4]\n",
        "print(b)\n",
        "print(b[0][1])\n"
      ],
      "execution_count": 21,
      "outputs": [
        {
          "output_type": "stream",
          "text": [
            "[[ 8  9]\n",
            " [13 14]]\n",
            "9\n"
          ],
          "name": "stdout"
        }
      ]
    },
    {
      "cell_type": "code",
      "metadata": {
        "id": "mMaGzStxZC3n",
        "colab_type": "code",
        "colab": {
          "base_uri": "https://localhost:8080/",
          "height": 68
        },
        "outputId": "159eeb0e-3ee5-49dd-99ed-db8b3b06116c"
      },
      "source": [
        "b[0][0] = 99\n",
        "\n",
        "print(a)\n"
      ],
      "execution_count": 22,
      "outputs": [
        {
          "output_type": "stream",
          "text": [
            "[[ 1  2  3  4  5]\n",
            " [ 6  7 99  9 10]\n",
            " [11 12 13 14 15]]\n"
          ],
          "name": "stdout"
        }
      ]
    },
    {
      "cell_type": "code",
      "metadata": {
        "id": "Hksql8HJZ6I7",
        "colab_type": "code",
        "colab": {
          "base_uri": "https://localhost:8080/",
          "height": 119
        },
        "outputId": "294007d1-2fdd-49bb-f657-a081794c8c8d"
      },
      "source": [
        "a = np.array([\n",
        "                [1,2,3,4,5],\n",
        "                [6,7,8,9,10],\n",
        "                [11,12,13,14,15]\n",
        "            ])\n",
        "row1 = a[1,:] # creating a rank 1 array\n",
        "row2 = a[1:2, :] # creating rank 2 array\n",
        "print(row1, row1.shape)\n",
        "print(row2, row2.shape)\n",
        "\n",
        "col1 = a[:,1]\n",
        "col2 = a[:, 1:2]\n",
        "print(col1, col1.shape)\n",
        "print(col2, col2.shape)"
      ],
      "execution_count": 33,
      "outputs": [
        {
          "output_type": "stream",
          "text": [
            "[ 6  7  8  9 10] (5,)\n",
            "[[ 6  7  8  9 10]] (1, 5)\n",
            "[ 2  7 12] (3,)\n",
            "[[ 2]\n",
            " [ 7]\n",
            " [12]] (3, 1)\n"
          ],
          "name": "stdout"
        }
      ]
    },
    {
      "cell_type": "code",
      "metadata": {
        "id": "yU-2wvmeaUVG",
        "colab_type": "code",
        "colab": {
          "base_uri": "https://localhost:8080/",
          "height": 136
        },
        "outputId": "7f61cce7-c280-4637-d9c2-76cb49d66f23"
      },
      "source": [
        "a = np.array([ \n",
        "              [1,2],\n",
        "              [3,4],\n",
        "              [5,6]\n",
        "            ])\n",
        "print(a)\n",
        "\n",
        "# creating a sub array\n",
        "print(a[[0,1,2],[0,1,0]]) # shape (3,)\n",
        "print(np.array([a[0][0], a[1,1], a[2][0]]))   # this is equvalent to the previous statement\n",
        "\n",
        "\n",
        "print(a[[0,0], [1,1]])\n",
        "print(np.array([a[0,1], a[0,1]]))   # again this is same as the last statement\n",
        "\n"
      ],
      "execution_count": 40,
      "outputs": [
        {
          "output_type": "stream",
          "text": [
            "[[1 2]\n",
            " [3 4]\n",
            " [5 6]]\n",
            "[1 4 5]\n",
            "[1 4 5]\n",
            "[2 2]\n",
            "[2 2]\n"
          ],
          "name": "stdout"
        }
      ]
    },
    {
      "cell_type": "code",
      "metadata": {
        "id": "HK9m2-jbcEdH",
        "colab_type": "code",
        "colab": {
          "base_uri": "https://localhost:8080/",
          "height": 85
        },
        "outputId": "98535609-83df-4250-a193-5a084e4adc6a"
      },
      "source": [
        "a = np.array([\n",
        "              [1,2,3],\n",
        "              [4,5,6],\n",
        "              [7,8,9],\n",
        "              [10,11,12]\n",
        "            ])\n",
        "print(a)"
      ],
      "execution_count": 41,
      "outputs": [
        {
          "output_type": "stream",
          "text": [
            "[[ 1  2  3]\n",
            " [ 4  5  6]\n",
            " [ 7  8  9]\n",
            " [10 11 12]]\n"
          ],
          "name": "stdout"
        }
      ]
    },
    {
      "cell_type": "code",
      "metadata": {
        "id": "NEu1WY-7ed-A",
        "colab_type": "code",
        "colab": {
          "base_uri": "https://localhost:8080/",
          "height": 34
        },
        "outputId": "bec382bf-1215-43f8-e64e-d6f8d78fadde"
      },
      "source": [
        "b = np.array([0,2,0,1])\n",
        "print(b)"
      ],
      "execution_count": 42,
      "outputs": [
        {
          "output_type": "stream",
          "text": [
            "[0 2 0 1]\n"
          ],
          "name": "stdout"
        }
      ]
    },
    {
      "cell_type": "code",
      "metadata": {
        "id": "ypDYkX5MenVt",
        "colab_type": "code",
        "colab": {
          "base_uri": "https://localhost:8080/",
          "height": 51
        },
        "outputId": "71017587-98c6-4893-dc41-cd006962f71b"
      },
      "source": [
        "print(np.arange(4))\n",
        "print(a[np.arange(4), b])"
      ],
      "execution_count": 44,
      "outputs": [
        {
          "output_type": "stream",
          "text": [
            "[0 1 2 3]\n",
            "[ 1  6  7 11]\n"
          ],
          "name": "stdout"
        }
      ]
    },
    {
      "cell_type": "code",
      "metadata": {
        "id": "GvepxVhZe_ht",
        "colab_type": "code",
        "colab": {
          "base_uri": "https://localhost:8080/",
          "height": 85
        },
        "outputId": "a1446c96-6a63-4e0c-97cd-7afd98a2699e"
      },
      "source": [
        "a[np.arange(4), b] += 5\n",
        "print(a)"
      ],
      "execution_count": 45,
      "outputs": [
        {
          "output_type": "stream",
          "text": [
            "[[ 6  2  3]\n",
            " [ 4  5 11]\n",
            " [12  8  9]\n",
            " [10 16 12]]\n"
          ],
          "name": "stdout"
        }
      ]
    },
    {
      "cell_type": "code",
      "metadata": {
        "id": "bSM35cBzgDwr",
        "colab_type": "code",
        "colab": {}
      },
      "source": [
        ""
      ],
      "execution_count": null,
      "outputs": []
    }
  ]
}