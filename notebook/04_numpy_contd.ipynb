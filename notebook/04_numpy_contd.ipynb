{
  "nbformat": 4,
  "nbformat_minor": 0,
  "metadata": {
    "colab": {
      "name": "04_numpy_contd.ipynb",
      "provenance": []
    },
    "kernelspec": {
      "name": "python3",
      "display_name": "Python 3"
    }
  },
  "cells": [
    {
      "cell_type": "code",
      "metadata": {
        "id": "vq7t3Gv4S-d0",
        "colab_type": "code",
        "colab": {}
      },
      "source": [
        "import numpy as np"
      ],
      "execution_count": 1,
      "outputs": []
    },
    {
      "cell_type": "code",
      "metadata": {
        "id": "sTs2Pq3jTbIK",
        "colab_type": "code",
        "colab": {
          "base_uri": "https://localhost:8080/",
          "height": 85
        },
        "outputId": "3aa1f937-5081-46cd-89db-4e535eb67424"
      },
      "source": [
        "a = np.array([1,2,3])  # rank 1 array\n",
        "print(type(a))\n",
        "print(a.shape)\n",
        "print(a[0], a[1], a[2])\n",
        "\n",
        "a[2] = 5\n",
        "print(a)"
      ],
      "execution_count": 2,
      "outputs": [
        {
          "output_type": "stream",
          "text": [
            "<class 'numpy.ndarray'>\n",
            "(3,)\n",
            "1 2 3\n",
            "[1 2 5]\n"
          ],
          "name": "stdout"
        }
      ]
    },
    {
      "cell_type": "code",
      "metadata": {
        "id": "JR4WLrJCT7wf",
        "colab_type": "code",
        "colab": {
          "base_uri": "https://localhost:8080/",
          "height": 85
        },
        "outputId": "691ace10-5ffb-457c-9c2a-2eddade75815"
      },
      "source": [
        "b = np.array([\n",
        "                [1,2,3],\n",
        "                [4,5,6],\n",
        "                [7,8,9]\n",
        "            ])  # creating a rank 2 array\n",
        "print(type(b))\n",
        "print(b.shape)\n",
        "print(b[0][1])\n",
        "print(b[2][1])"
      ],
      "execution_count": 3,
      "outputs": [
        {
          "output_type": "stream",
          "text": [
            "<class 'numpy.ndarray'>\n",
            "(3, 3)\n",
            "2\n",
            "8\n"
          ],
          "name": "stdout"
        }
      ]
    },
    {
      "cell_type": "code",
      "metadata": {
        "id": "qAYxnUBAU-3V",
        "colab_type": "code",
        "colab": {
          "base_uri": "https://localhost:8080/",
          "height": 68
        },
        "outputId": "34688204-b933-422c-9aca-787df05f9c45"
      },
      "source": [
        "arr_zero = np.zeros( (3,3) )\n",
        "print(arr_zero)"
      ],
      "execution_count": 4,
      "outputs": [
        {
          "output_type": "stream",
          "text": [
            "[[0. 0. 0.]\n",
            " [0. 0. 0.]\n",
            " [0. 0. 0.]]\n"
          ],
          "name": "stdout"
        }
      ]
    },
    {
      "cell_type": "code",
      "metadata": {
        "id": "DsEejJPvWY5h",
        "colab_type": "code",
        "colab": {
          "base_uri": "https://localhost:8080/",
          "height": 68
        },
        "outputId": "3a015ae8-c1b9-4e3d-9220-a9a0b4700cd1"
      },
      "source": [
        "arr_ones = np.ones( (3,3) )\n",
        "print(arr_ones)"
      ],
      "execution_count": 5,
      "outputs": [
        {
          "output_type": "stream",
          "text": [
            "[[1. 1. 1.]\n",
            " [1. 1. 1.]\n",
            " [1. 1. 1.]]\n"
          ],
          "name": "stdout"
        }
      ]
    },
    {
      "cell_type": "code",
      "metadata": {
        "id": "id1kgichWl52",
        "colab_type": "code",
        "colab": {
          "base_uri": "https://localhost:8080/",
          "height": 68
        },
        "outputId": "32de8740-bc6e-4bcb-e822-a85d41795c32"
      },
      "source": [
        "arr_constant = np.full( (3,3), 4 )\n",
        "print(arr_constant)"
      ],
      "execution_count": 6,
      "outputs": [
        {
          "output_type": "stream",
          "text": [
            "[[4 4 4]\n",
            " [4 4 4]\n",
            " [4 4 4]]\n"
          ],
          "name": "stdout"
        }
      ]
    },
    {
      "cell_type": "code",
      "metadata": {
        "id": "aNRwn65-W6ov",
        "colab_type": "code",
        "colab": {
          "base_uri": "https://localhost:8080/",
          "height": 102
        },
        "outputId": "63e3e44a-490a-4598-f6f3-d8399135179c"
      },
      "source": [
        "arr_identity = np.eye(5)\n",
        "print(arr_identity)"
      ],
      "execution_count": 7,
      "outputs": [
        {
          "output_type": "stream",
          "text": [
            "[[1. 0. 0. 0. 0.]\n",
            " [0. 1. 0. 0. 0.]\n",
            " [0. 0. 1. 0. 0.]\n",
            " [0. 0. 0. 1. 0.]\n",
            " [0. 0. 0. 0. 1.]]\n"
          ],
          "name": "stdout"
        }
      ]
    },
    {
      "cell_type": "code",
      "metadata": {
        "id": "Hhw_b2LvXHrX",
        "colab_type": "code",
        "colab": {
          "base_uri": "https://localhost:8080/",
          "height": 102
        },
        "outputId": "73b5d231-db3f-420a-f2ba-56736f3ff77b"
      },
      "source": [
        "arr_rand = np.random.random((5,5))\n",
        "print(arr_rand)"
      ],
      "execution_count": 8,
      "outputs": [
        {
          "output_type": "stream",
          "text": [
            "[[0.53092845 0.74824736 0.18622072 0.8014033  0.95437372]\n",
            " [0.98098785 0.04189312 0.41904589 0.34516849 0.05032533]\n",
            " [0.67700499 0.56525155 0.17348714 0.07330502 0.27359116]\n",
            " [0.59954354 0.31246623 0.29889358 0.20815    0.12262875]\n",
            " [0.78205366 0.88131918 0.09654229 0.42081994 0.44258524]]\n"
          ],
          "name": "stdout"
        }
      ]
    },
    {
      "cell_type": "code",
      "metadata": {
        "id": "gOjCaIw2X4Tp",
        "colab_type": "code",
        "colab": {
          "base_uri": "https://localhost:8080/",
          "height": 68
        },
        "outputId": "cbd7ccb5-756c-4eac-c718-d5602e310e15"
      },
      "source": [
        "# Array Indexing\n",
        "\n",
        "a = np.array([\n",
        "                [1,2,3,4,5],\n",
        "                [6,7,8,9,10],\n",
        "                [11,12,13,14,15]\n",
        "            ])\n",
        "print(a)"
      ],
      "execution_count": 9,
      "outputs": [
        {
          "output_type": "stream",
          "text": [
            "[[ 1  2  3  4  5]\n",
            " [ 6  7  8  9 10]\n",
            " [11 12 13 14 15]]\n"
          ],
          "name": "stdout"
        }
      ]
    },
    {
      "cell_type": "code",
      "metadata": {
        "id": "OMQeGuT2YcYi",
        "colab_type": "code",
        "colab": {
          "base_uri": "https://localhost:8080/",
          "height": 68
        },
        "outputId": "610c4ef4-ebd2-49b2-b380-7319e3da7e8f"
      },
      "source": [
        "b = a[1:3, 2:4]\n",
        "print(b)\n",
        "print(b[0][1])\n"
      ],
      "execution_count": 10,
      "outputs": [
        {
          "output_type": "stream",
          "text": [
            "[[ 8  9]\n",
            " [13 14]]\n",
            "9\n"
          ],
          "name": "stdout"
        }
      ]
    },
    {
      "cell_type": "code",
      "metadata": {
        "id": "mMaGzStxZC3n",
        "colab_type": "code",
        "colab": {
          "base_uri": "https://localhost:8080/",
          "height": 68
        },
        "outputId": "7cb69031-599b-4d62-abe9-5d32ebc38114"
      },
      "source": [
        "b[0][0] = 99\n",
        "\n",
        "print(a)\n"
      ],
      "execution_count": 11,
      "outputs": [
        {
          "output_type": "stream",
          "text": [
            "[[ 1  2  3  4  5]\n",
            " [ 6  7 99  9 10]\n",
            " [11 12 13 14 15]]\n"
          ],
          "name": "stdout"
        }
      ]
    },
    {
      "cell_type": "code",
      "metadata": {
        "id": "Hksql8HJZ6I7",
        "colab_type": "code",
        "colab": {
          "base_uri": "https://localhost:8080/",
          "height": 119
        },
        "outputId": "51937f3e-c565-4bbc-9f82-50e7efcc4777"
      },
      "source": [
        "a = np.array([\n",
        "                [1,2,3,4,5],\n",
        "                [6,7,8,9,10],\n",
        "                [11,12,13,14,15]\n",
        "            ])\n",
        "row1 = a[1,:] # creating a rank 1 array\n",
        "row2 = a[1:2, :] # creating rank 2 array\n",
        "print(row1, row1.shape)\n",
        "print(row2, row2.shape)\n",
        "\n",
        "col1 = a[:,1]\n",
        "col2 = a[:, 1:2]\n",
        "print(col1, col1.shape)\n",
        "print(col2, col2.shape)"
      ],
      "execution_count": 12,
      "outputs": [
        {
          "output_type": "stream",
          "text": [
            "[ 6  7  8  9 10] (5,)\n",
            "[[ 6  7  8  9 10]] (1, 5)\n",
            "[ 2  7 12] (3,)\n",
            "[[ 2]\n",
            " [ 7]\n",
            " [12]] (3, 1)\n"
          ],
          "name": "stdout"
        }
      ]
    },
    {
      "cell_type": "code",
      "metadata": {
        "id": "yU-2wvmeaUVG",
        "colab_type": "code",
        "colab": {
          "base_uri": "https://localhost:8080/",
          "height": 136
        },
        "outputId": "facf0a4d-b63b-49a8-f7f3-5f89fc728539"
      },
      "source": [
        "a = np.array([ \n",
        "              [1,2],\n",
        "              [3,4],\n",
        "              [5,6]\n",
        "            ])\n",
        "print(a)\n",
        "\n",
        "# creating a sub array\n",
        "print(a[[0,1,2],[0,1,0]]) # shape (3,)\n",
        "print(np.array([a[0][0], a[1,1], a[2][0]]))   # this is equvalent to the previous statement\n",
        "\n",
        "\n",
        "print(a[[0,0], [1,1]])\n",
        "print(np.array([a[0,1], a[0,1]]))   # again this is same as the last statement\n",
        "\n"
      ],
      "execution_count": 13,
      "outputs": [
        {
          "output_type": "stream",
          "text": [
            "[[1 2]\n",
            " [3 4]\n",
            " [5 6]]\n",
            "[1 4 5]\n",
            "[1 4 5]\n",
            "[2 2]\n",
            "[2 2]\n"
          ],
          "name": "stdout"
        }
      ]
    },
    {
      "cell_type": "code",
      "metadata": {
        "id": "HK9m2-jbcEdH",
        "colab_type": "code",
        "colab": {
          "base_uri": "https://localhost:8080/",
          "height": 85
        },
        "outputId": "9a7a87e9-3e29-40ae-898e-4f1123fab682"
      },
      "source": [
        "a = np.array([\n",
        "              [1,2,3],\n",
        "              [4,5,6],\n",
        "              [7,8,9],\n",
        "              [10,11,12]\n",
        "            ])\n",
        "print(a)"
      ],
      "execution_count": 14,
      "outputs": [
        {
          "output_type": "stream",
          "text": [
            "[[ 1  2  3]\n",
            " [ 4  5  6]\n",
            " [ 7  8  9]\n",
            " [10 11 12]]\n"
          ],
          "name": "stdout"
        }
      ]
    },
    {
      "cell_type": "code",
      "metadata": {
        "id": "NEu1WY-7ed-A",
        "colab_type": "code",
        "colab": {
          "base_uri": "https://localhost:8080/",
          "height": 34
        },
        "outputId": "48c22ce4-bfc6-43d5-eb89-fcedf85eeb2d"
      },
      "source": [
        "b = np.array([0,2,0,1])\n",
        "print(b)"
      ],
      "execution_count": 15,
      "outputs": [
        {
          "output_type": "stream",
          "text": [
            "[0 2 0 1]\n"
          ],
          "name": "stdout"
        }
      ]
    },
    {
      "cell_type": "code",
      "metadata": {
        "id": "ypDYkX5MenVt",
        "colab_type": "code",
        "colab": {
          "base_uri": "https://localhost:8080/",
          "height": 51
        },
        "outputId": "306bbd89-5f64-4efe-d925-5c7f5c51f8d7"
      },
      "source": [
        "print(np.arange(4))\n",
        "print(a[np.arange(4), b])"
      ],
      "execution_count": 16,
      "outputs": [
        {
          "output_type": "stream",
          "text": [
            "[0 1 2 3]\n",
            "[ 1  6  7 11]\n"
          ],
          "name": "stdout"
        }
      ]
    },
    {
      "cell_type": "code",
      "metadata": {
        "id": "GvepxVhZe_ht",
        "colab_type": "code",
        "colab": {
          "base_uri": "https://localhost:8080/",
          "height": 85
        },
        "outputId": "2cdeb47b-5a5a-4aec-df17-e4a5bd2ad0dd"
      },
      "source": [
        "a[np.arange(4), b] += 5\n",
        "print(a)"
      ],
      "execution_count": 17,
      "outputs": [
        {
          "output_type": "stream",
          "text": [
            "[[ 6  2  3]\n",
            " [ 4  5 11]\n",
            " [12  8  9]\n",
            " [10 16 12]]\n"
          ],
          "name": "stdout"
        }
      ]
    },
    {
      "cell_type": "code",
      "metadata": {
        "id": "bSM35cBzgDwr",
        "colab_type": "code",
        "colab": {
          "base_uri": "https://localhost:8080/",
          "height": 102
        },
        "outputId": "75ef891a-c92e-451d-9fb5-4b7bf90e8c9b"
      },
      "source": [
        "# Boolean array indexing\n",
        "\n",
        "arr = np.array([\n",
        "                [1,2,3],\n",
        "                [4,5,6],\n",
        "                [7,2,1]\n",
        "            ])\n",
        "bool_indx = arr > 2\n",
        "print(bool_indx)\n",
        "print(arr[bool_indx])\n",
        "\n",
        "print(arr[arr>2])"
      ],
      "execution_count": 18,
      "outputs": [
        {
          "output_type": "stream",
          "text": [
            "[[False False  True]\n",
            " [ True  True  True]\n",
            " [ True False False]]\n",
            "[3 4 5 6 7]\n",
            "[3 4 5 6 7]\n"
          ],
          "name": "stdout"
        }
      ]
    },
    {
      "cell_type": "code",
      "metadata": {
        "id": "1rQEkt7Vhc3W",
        "colab_type": "code",
        "colab": {
          "base_uri": "https://localhost:8080/",
          "height": 68
        },
        "outputId": "c49d11ad-198e-4eef-8df0-20077908e7d9"
      },
      "source": [
        "# data types in numpy\n",
        "\n",
        "a = np.array([1,2,3])\n",
        "print(a.dtype)\n",
        "\n",
        "b = np.array([1,2,3.3])\n",
        "print(b.dtype)\n",
        "\n",
        "c = np.array([1.1,2.2,3.3], dtype=np.int64)\n",
        "print(c.dtype)"
      ],
      "execution_count": 19,
      "outputs": [
        {
          "output_type": "stream",
          "text": [
            "int64\n",
            "float64\n",
            "int64\n"
          ],
          "name": "stdout"
        }
      ]
    },
    {
      "cell_type": "code",
      "metadata": {
        "id": "CsJkr2XtiOlA",
        "colab_type": "code",
        "colab": {
          "base_uri": "https://localhost:8080/",
          "height": 323
        },
        "outputId": "5c320035-ce7c-4e73-dcc5-5c33b7d72781"
      },
      "source": [
        "x = np.array([\n",
        "                [1,2,3],\n",
        "                [4,5,6]\n",
        "            ], dtype=np.float64)\n",
        "y = np.array([\n",
        "                [7,8,9],\n",
        "                [1,2,3]  \n",
        "            ], dtype=np.float64)\n",
        "\n",
        "print(x+y)          # Element wise sum\n",
        "print(np.add(x,y))\n",
        "\n",
        "print(x-y)          # Element wise subtraction\n",
        "print(np.subtract(x,y))\n",
        "\n",
        "print(x*y)          # element wise product\n",
        "print(np.multiply(x,y))\n",
        "\n",
        "print(x/y)          # element wise division\n",
        "print(np.divide(x,y))\n",
        "\n",
        "print(np.sqrt(x))   # element wise square root"
      ],
      "execution_count": 20,
      "outputs": [
        {
          "output_type": "stream",
          "text": [
            "[[ 8. 10. 12.]\n",
            " [ 5.  7.  9.]]\n",
            "[[ 8. 10. 12.]\n",
            " [ 5.  7.  9.]]\n",
            "[[-6. -6. -6.]\n",
            " [ 3.  3.  3.]]\n",
            "[[-6. -6. -6.]\n",
            " [ 3.  3.  3.]]\n",
            "[[ 7. 16. 27.]\n",
            " [ 4. 10. 18.]]\n",
            "[[ 7. 16. 27.]\n",
            " [ 4. 10. 18.]]\n",
            "[[0.14285714 0.25       0.33333333]\n",
            " [4.         2.5        2.        ]]\n",
            "[[0.14285714 0.25       0.33333333]\n",
            " [4.         2.5        2.        ]]\n",
            "[[1.         1.41421356 1.73205081]\n",
            " [2.         2.23606798 2.44948974]]\n"
          ],
          "name": "stdout"
        }
      ]
    },
    {
      "cell_type": "code",
      "metadata": {
        "id": "EJzN8XX6jZcd",
        "colab_type": "code",
        "colab": {
          "base_uri": "https://localhost:8080/",
          "height": 153
        },
        "outputId": "7bc2b6c4-b9bd-4468-ca51-4abb2d0b32e7"
      },
      "source": [
        "x = np.array([[1,2],[3,4]])\n",
        "y = np.array([[5,6],[7,8]])\n",
        "\n",
        "a = np.array([2,3])\n",
        "b = np.array([4,5])\n",
        "\n",
        "print(a.dot(b))     # inner product of vectors\n",
        "print(np.dot(a,b))\n",
        "\n",
        "print(x.dot(a))     # Matrix / vector product, will produce rank 1 array\n",
        "print(np.dot(x,a))\n",
        "\n",
        "print(x.dot(y))     # matrix / matrix product, will produce rank 2 array\n",
        "print(np.dot(x,y))"
      ],
      "execution_count": 21,
      "outputs": [
        {
          "output_type": "stream",
          "text": [
            "23\n",
            "23\n",
            "[ 8 18]\n",
            "[ 8 18]\n",
            "[[19 22]\n",
            " [43 50]]\n",
            "[[19 22]\n",
            " [43 50]]\n"
          ],
          "name": "stdout"
        }
      ]
    },
    {
      "cell_type": "code",
      "metadata": {
        "id": "1P2XL--LlHsj",
        "colab_type": "code",
        "colab": {
          "base_uri": "https://localhost:8080/",
          "height": 68
        },
        "outputId": "34cd2119-4a1b-4c51-d2b4-849c3a1107b8"
      },
      "source": [
        "x = np.array([\n",
        "              [1,2],\n",
        "              [3,4]\n",
        "            ])\n",
        "\n",
        "print(np.sum(x, axis=None))            # sum of all the elements\n",
        "print(np.sum(x, axis=0))    # sum of each column\n",
        "print(np.sum(x, axis=1))    # sum of each row"
      ],
      "execution_count": 22,
      "outputs": [
        {
          "output_type": "stream",
          "text": [
            "10\n",
            "[4 6]\n",
            "[3 7]\n"
          ],
          "name": "stdout"
        }
      ]
    },
    {
      "cell_type": "code",
      "metadata": {
        "id": "kOjEvaYYmpjv",
        "colab_type": "code",
        "colab": {
          "base_uri": "https://localhost:8080/",
          "height": 68
        },
        "outputId": "67f48fed-13a9-4eda-9e67-7fb09098d3a8"
      },
      "source": [
        "print(x.T)      # transpose the matrix\n",
        "a = np.array([1,2,3,4])\n",
        "print(a.T)"
      ],
      "execution_count": 23,
      "outputs": [
        {
          "output_type": "stream",
          "text": [
            "[[1 3]\n",
            " [2 4]]\n",
            "[1 2 3 4]\n"
          ],
          "name": "stdout"
        }
      ]
    },
    {
      "cell_type": "code",
      "metadata": {
        "id": "7-S8vEUdnqel",
        "colab_type": "code",
        "colab": {
          "base_uri": "https://localhost:8080/",
          "height": 85
        },
        "outputId": "0446e665-28c7-46db-e54d-129c26fcf251"
      },
      "source": [
        "# Broadcasting\n",
        "\n",
        "a = np.array([\n",
        "                [1,2,3],\n",
        "                [4,5,6],\n",
        "                [7,8,9],\n",
        "                [10,11,12]\n",
        "            ])\n",
        "b = np.array([1,2,3])\n",
        "c = np.empty_like(a) # will create an empty matrix with the same shape as a\n",
        "print(c)"
      ],
      "execution_count": 24,
      "outputs": [
        {
          "output_type": "stream",
          "text": [
            "[[       80618912               0             833]\n",
            " [       57904816 139683433103584 139683433103584]\n",
            " [139683433103584 139683433103584               0]\n",
            " [              4     38654705665               0]]\n"
          ],
          "name": "stdout"
        }
      ]
    },
    {
      "cell_type": "code",
      "metadata": {
        "id": "HURY41TqoxF9",
        "colab_type": "code",
        "colab": {
          "base_uri": "https://localhost:8080/",
          "height": 85
        },
        "outputId": "b94bcf25-c3f3-4171-e881-81917120d38c"
      },
      "source": [
        "for i in range(4):\n",
        "    c[i,:] = a[i, :] + b\n",
        "print(c)"
      ],
      "execution_count": 25,
      "outputs": [
        {
          "output_type": "stream",
          "text": [
            "[[ 2  4  6]\n",
            " [ 5  7  9]\n",
            " [ 8 10 12]\n",
            " [11 13 15]]\n"
          ],
          "name": "stdout"
        }
      ]
    },
    {
      "cell_type": "code",
      "metadata": {
        "id": "zEe5DoXuqyCx",
        "colab_type": "code",
        "colab": {
          "base_uri": "https://localhost:8080/",
          "height": 85
        },
        "outputId": "005c1075-85c2-46ff-e10b-8cd87bcedc69"
      },
      "source": [
        "ab = np.tile(b,(4,1))   # stack 4 copies of b on top of each other\n",
        "print(ab, type(ab))"
      ],
      "execution_count": 28,
      "outputs": [
        {
          "output_type": "stream",
          "text": [
            "[[1 2 3]\n",
            " [1 2 3]\n",
            " [1 2 3]\n",
            " [1 2 3]] <class 'numpy.ndarray'>\n"
          ],
          "name": "stdout"
        }
      ]
    },
    {
      "cell_type": "code",
      "metadata": {
        "id": "bbZvlaCsr7tg",
        "colab_type": "code",
        "colab": {
          "base_uri": "https://localhost:8080/",
          "height": 85
        },
        "outputId": "d514322a-26dd-4441-baf3-4f05eb53e02d"
      },
      "source": [
        "test = a + ab\n",
        "print(test)"
      ],
      "execution_count": 30,
      "outputs": [
        {
          "output_type": "stream",
          "text": [
            "[[ 2  4  6]\n",
            " [ 5  7  9]\n",
            " [ 8 10 12]\n",
            " [11 13 15]]\n"
          ],
          "name": "stdout"
        }
      ]
    },
    {
      "cell_type": "code",
      "metadata": {
        "id": "mZij9VzTsYzN",
        "colab_type": "code",
        "colab": {
          "base_uri": "https://localhost:8080/",
          "height": 102
        },
        "outputId": "ec46ae85-1f91-4ecd-a47d-5bdb3cb773df"
      },
      "source": [
        "print(a)\n",
        "print(b)\n"
      ],
      "execution_count": 32,
      "outputs": [
        {
          "output_type": "stream",
          "text": [
            "[[ 1  2  3]\n",
            " [ 4  5  6]\n",
            " [ 7  8  9]\n",
            " [10 11 12]]\n",
            "[1 2 3]\n"
          ],
          "name": "stdout"
        }
      ]
    },
    {
      "cell_type": "code",
      "metadata": {
        "id": "RCQ4oiiQsl-r",
        "colab_type": "code",
        "colab": {
          "base_uri": "https://localhost:8080/",
          "height": 85
        },
        "outputId": "7e0332d8-855b-4381-8220-6aeb5bc08856"
      },
      "source": [
        "print(a+b)"
      ],
      "execution_count": 33,
      "outputs": [
        {
          "output_type": "stream",
          "text": [
            "[[ 2  4  6]\n",
            " [ 5  7  9]\n",
            " [ 8 10 12]\n",
            " [11 13 15]]\n"
          ],
          "name": "stdout"
        }
      ]
    },
    {
      "cell_type": "code",
      "metadata": {
        "id": "r3cfMHSws7dA",
        "colab_type": "code",
        "colab": {
          "base_uri": "https://localhost:8080/",
          "height": 238
        },
        "outputId": "9626e290-d0ed-4bad-a488-0221c1287512"
      },
      "source": [
        "a = np.array([1,2,3])   # shape(3,)\n",
        "b = np.array([1,2])     # shape(2,)\n",
        "\n",
        "# 1st a becomes a colum vector of shape (3,1)\n",
        "# after the multiplication of b (broadcasting), the shape will be (3,2) \n",
        "\n",
        "print(np.reshape(a, (3,1)) * b )\n",
        "\n",
        "\n",
        "x = np.array([[1,2,3],[4,5,6]])\n",
        "print(a.shape, x.shape)\n",
        "print(x+a)\n",
        "\n",
        "print(x.T + b)\n",
        "print((x.T + b).T)\n",
        "\n",
        "print(x + np.reshape(b,(2,1)))"
      ],
      "execution_count": 42,
      "outputs": [
        {
          "output_type": "stream",
          "text": [
            "[[1 2]\n",
            " [2 4]\n",
            " [3 6]]\n",
            "(3,) (2, 3)\n",
            "[[2 4 6]\n",
            " [5 7 9]]\n",
            "[[2 6]\n",
            " [3 7]\n",
            " [4 8]]\n",
            "[[2 3 4]\n",
            " [6 7 8]]\n",
            "[[2 3 4]\n",
            " [6 7 8]]\n"
          ],
          "name": "stdout"
        }
      ]
    },
    {
      "cell_type": "code",
      "metadata": {
        "id": "NNx7a7kGvR6A",
        "colab_type": "code",
        "colab": {}
      },
      "source": [
        ""
      ],
      "execution_count": null,
      "outputs": []
    }
  ]
}