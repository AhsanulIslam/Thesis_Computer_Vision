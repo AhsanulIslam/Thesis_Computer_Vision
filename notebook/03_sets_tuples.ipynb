{
  "nbformat": 4,
  "nbformat_minor": 0,
  "metadata": {
    "colab": {
      "name": "03_sets_tuples.ipynb",
      "provenance": []
    },
    "kernelspec": {
      "name": "python3",
      "display_name": "Python 3"
    }
  },
  "cells": [
    {
      "cell_type": "code",
      "metadata": {
        "id": "EQiNri1cOHpy",
        "colab_type": "code",
        "colab": {
          "base_uri": "https://localhost:8080/",
          "height": 136
        },
        "outputId": "1a996810-10db-452a-9354-80d0a7245c35"
      },
      "source": [
        "# Sets --> unordered collection of distinct elements\n",
        "arr = {'cat','dog','cat'}\n",
        "print('cat' in arr)\n",
        "print(arr)\n",
        "print('dog' in arr)\n",
        "print('fish' in arr)\n",
        "arr.add('fish')\n",
        "arr.add('fish')\n",
        "arr.add('fish')\n",
        "arr.add('fish')\n",
        "arr.add('fish')\n",
        "print(len(arr))\n",
        "print('fish' in arr)\n",
        "arr.remove('fish')\n",
        "print(len(arr))"
      ],
      "execution_count": 10,
      "outputs": [
        {
          "output_type": "stream",
          "text": [
            "True\n",
            "{'dog', 'cat'}\n",
            "True\n",
            "False\n",
            "3\n",
            "True\n",
            "2\n"
          ],
          "name": "stdout"
        }
      ]
    },
    {
      "cell_type": "code",
      "metadata": {
        "id": "CNj900SyOoQV",
        "colab_type": "code",
        "colab": {
          "base_uri": "https://localhost:8080/",
          "height": 187
        },
        "outputId": "301040f7-9011-4cec-9134-4d59280f447a"
      },
      "source": [
        "set1 = {'cat','dog', 'fish', 'bird', 'gorilla'}\n",
        "for a in set1:\n",
        "    print(a)\n",
        "\n",
        "for i,a in enumerate(set1):\n",
        "    print(i, a)"
      ],
      "execution_count": 13,
      "outputs": [
        {
          "output_type": "stream",
          "text": [
            "dog\n",
            "cat\n",
            "gorilla\n",
            "bird\n",
            "fish\n",
            "0 dog\n",
            "1 cat\n",
            "2 gorilla\n",
            "3 bird\n",
            "4 fish\n"
          ],
          "name": "stdout"
        }
      ]
    },
    {
      "cell_type": "code",
      "metadata": {
        "id": "mlHdyo42P6Mj",
        "colab_type": "code",
        "colab": {
          "base_uri": "https://localhost:8080/",
          "height": 119
        },
        "outputId": "c2269f00-14c7-4aa8-c957-a9fe229499f1"
      },
      "source": [
        "# Tuples ---> immutable ordered values\n",
        "\n",
        "# very much simillar to a list\n",
        "# tuples can be used as keys in a Dictionary\n",
        "\n",
        "\n",
        "t = (3,4)\n",
        "print(t)\n",
        "print(type(t))\n",
        "\n",
        "d = {(a,a+1): a for a in range(10)}\n",
        "print(d)\n",
        "print(d[(0,1)])\n",
        "print(d[(3,4)])\n",
        "print(d[t])"
      ],
      "execution_count": 20,
      "outputs": [
        {
          "output_type": "stream",
          "text": [
            "(3, 4)\n",
            "<class 'tuple'>\n",
            "{(0, 1): 0, (1, 2): 1, (2, 3): 2, (3, 4): 3, (4, 5): 4, (5, 6): 5, (6, 7): 6, (7, 8): 7, (8, 9): 8, (9, 10): 9}\n",
            "0\n",
            "3\n",
            "3\n"
          ],
          "name": "stdout"
        }
      ]
    },
    {
      "cell_type": "code",
      "metadata": {
        "id": "n9iLVcyoRgMC",
        "colab_type": "code",
        "colab": {}
      },
      "source": [
        ""
      ],
      "execution_count": null,
      "outputs": []
    }
  ]
}