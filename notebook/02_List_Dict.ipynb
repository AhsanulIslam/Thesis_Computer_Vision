{
  "nbformat": 4,
  "nbformat_minor": 0,
  "metadata": {
    "colab": {
      "name": "Untitled5.ipynb",
      "provenance": [],
      "collapsed_sections": []
    },
    "kernelspec": {
      "name": "python3",
      "display_name": "Python 3"
    }
  },
  "cells": [
    {
      "cell_type": "markdown",
      "metadata": {
        "id": "lKi-BJJkUxbK",
        "colab_type": "text"
      },
      "source": [
        "**List**\n",
        "\n",
        "*   Stores a sequence of items\n",
        "*   Can be used to store different data types\n",
        "*   Lists are mutable\n",
        "*   [  ] to create lists\n",
        "\n"
      ]
    },
    {
      "cell_type": "code",
      "metadata": {
        "id": "p1smMG-6U0w1",
        "colab_type": "code",
        "colab": {
          "base_uri": "https://localhost:8080/",
          "height": 68
        },
        "outputId": "1daac51d-5ccd-4d79-b061-265b808e424b"
      },
      "source": [
        "language_courses = ['C', 'C++', 'JAVA', 'C Charp']\n",
        "print(language_courses)\n",
        "print(language_courses[0])\n",
        "print(language_courses[-1]) # negative indexing - used to access elemnts from the back of the list"
      ],
      "execution_count": 1,
      "outputs": [
        {
          "output_type": "stream",
          "text": [
            "['C', 'C++', 'JAVA', 'C Charp']\n",
            "C\n",
            "C Charp\n"
          ],
          "name": "stdout"
        }
      ]
    },
    {
      "cell_type": "markdown",
      "metadata": {
        "id": "T2l3TXurW2s9",
        "colab_type": "text"
      },
      "source": [
        "Builtin enumerator function gives access to the index of each element within the body of the loop\n"
      ]
    },
    {
      "cell_type": "code",
      "metadata": {
        "id": "X7YV3Pp1XFB3",
        "colab_type": "code",
        "colab": {
          "base_uri": "https://localhost:8080/",
          "height": 85
        },
        "outputId": "fc88dd2f-616b-4bae-99fd-14aadcd80560"
      },
      "source": [
        "for i,c in enumerate(language_courses):\n",
        "    print('# %d: %s' % (i,c) )\n"
      ],
      "execution_count": 2,
      "outputs": [
        {
          "output_type": "stream",
          "text": [
            "# 0: C\n",
            "# 1: C++\n",
            "# 2: JAVA\n",
            "# 3: C Charp\n"
          ],
          "name": "stdout"
        }
      ]
    },
    {
      "cell_type": "code",
      "metadata": {
        "id": "tFN_eAJ_XZsD",
        "colab_type": "code",
        "colab": {
          "base_uri": "https://localhost:8080/",
          "height": 51
        },
        "outputId": "2795183a-3429-4964-b891-b838193c6246"
      },
      "source": [
        "nums = [0, 1, 2, 3, 4]\n",
        "print(nums)\n",
        "squares = []\n",
        "for i in nums:\n",
        "    squares.append(i ** 2)\n",
        "print(squares)"
      ],
      "execution_count": 3,
      "outputs": [
        {
          "output_type": "stream",
          "text": [
            "[0, 1, 2, 3, 4]\n",
            "[0, 1, 4, 9, 16]\n"
          ],
          "name": "stdout"
        }
      ]
    },
    {
      "cell_type": "code",
      "metadata": {
        "id": "kG4pBgyaYyEi",
        "colab_type": "code",
        "colab": {
          "base_uri": "https://localhost:8080/",
          "height": 51
        },
        "outputId": "00b6a294-b5b5-4682-81a6-eac92e1cb3b2"
      },
      "source": [
        "nums = [0, 1, 2, 3, 4]\n",
        "squares = [i ** 2 for i in nums] # list comprehension\n",
        "print(squares)\n",
        "even_squares = [i ** 2 for i in nums if i % 2 == 0] # another example of list comprehension\n",
        "print(even_squares)"
      ],
      "execution_count": 4,
      "outputs": [
        {
          "output_type": "stream",
          "text": [
            "[0, 1, 4, 9, 16]\n",
            "[0, 4, 16]\n"
          ],
          "name": "stdout"
        }
      ]
    },
    {
      "cell_type": "code",
      "metadata": {
        "id": "bh0A1wnzZmzc",
        "colab_type": "code",
        "colab": {
          "base_uri": "https://localhost:8080/",
          "height": 34
        },
        "outputId": "6b04932d-9e55-4131-deb2-7588330a34e6"
      },
      "source": [
        "print(language_courses)"
      ],
      "execution_count": 5,
      "outputs": [
        {
          "output_type": "stream",
          "text": [
            "['C', 'C++', 'JAVA', 'C Charp']\n"
          ],
          "name": "stdout"
        }
      ]
    },
    {
      "cell_type": "markdown",
      "metadata": {
        "id": "0LMZVxLkaoS_",
        "colab_type": "text"
      },
      "source": [
        "Adding items to a list\n",
        "\n",
        "1.   append()       ->  Add an item\n",
        "2.   insert()       ->  Add an item to a specific index\n",
        "3.   extend() , +   ->  COmbines list"
      ]
    },
    {
      "cell_type": "code",
      "metadata": {
        "id": "o1sxDPTGayAz",
        "colab_type": "code",
        "colab": {
          "base_uri": "https://localhost:8080/",
          "height": 34
        },
        "outputId": "26df1bf0-1825-4869-d797-3312f7393e50"
      },
      "source": [
        "# append() ---> add a new element at the end of the list\n",
        "language_courses.append('Python')\n",
        "print(language_courses)"
      ],
      "execution_count": 6,
      "outputs": [
        {
          "output_type": "stream",
          "text": [
            "['C', 'C++', 'JAVA', 'C Charp', 'Python']\n"
          ],
          "name": "stdout"
        }
      ]
    },
    {
      "cell_type": "code",
      "metadata": {
        "id": "ZxQpMBwJbtyy",
        "colab_type": "code",
        "colab": {
          "base_uri": "https://localhost:8080/",
          "height": 34
        },
        "outputId": "f93ea5aa-2c84-4e0c-d3f9-7e2bd12b8efe"
      },
      "source": [
        "# insert() ---> inserts an elemnet to a given index\n",
        "language_courses.insert(3,'JS')\n",
        "print(language_courses)"
      ],
      "execution_count": 7,
      "outputs": [
        {
          "output_type": "stream",
          "text": [
            "['C', 'C++', 'JAVA', 'JS', 'C Charp', 'Python']\n"
          ],
          "name": "stdout"
        }
      ]
    },
    {
      "cell_type": "code",
      "metadata": {
        "id": "0ZPb8IDVcawV",
        "colab_type": "code",
        "colab": {
          "base_uri": "https://localhost:8080/",
          "height": 34
        },
        "outputId": "304e2fe9-f7f3-49f7-f03d-81ed2b3a1591"
      },
      "source": [
        "language_courses.insert(5, 'PHP')\n",
        "print(language_courses)"
      ],
      "execution_count": 8,
      "outputs": [
        {
          "output_type": "stream",
          "text": [
            "['C', 'C++', 'JAVA', 'JS', 'C Charp', 'PHP', 'Python']\n"
          ],
          "name": "stdout"
        }
      ]
    },
    {
      "cell_type": "code",
      "metadata": {
        "id": "p9deSMRwc6st",
        "colab_type": "code",
        "colab": {
          "base_uri": "https://localhost:8080/",
          "height": 34
        },
        "outputId": "ef4a3d04-9607-42b0-dc93-bba1adb1c1ea"
      },
      "source": [
        "# + operator sers the purpose of list concatination\n",
        "algo_courses = ['Data structure', 'Algorithm', 'AI']\n",
        "all_courses = language_courses + algo_courses\n",
        "print(all_courses)"
      ],
      "execution_count": 9,
      "outputs": [
        {
          "output_type": "stream",
          "text": [
            "['C', 'C++', 'JAVA', 'JS', 'C Charp', 'PHP', 'Python', 'Data structure', 'Algorithm', 'AI']\n"
          ],
          "name": "stdout"
        }
      ]
    },
    {
      "cell_type": "code",
      "metadata": {
        "id": "HhKRnKbvdYfo",
        "colab_type": "code",
        "colab": {
          "base_uri": "https://localhost:8080/",
          "height": 34
        },
        "outputId": "b2cecfa0-992d-4efe-b9ff-1b702afefddd"
      },
      "source": [
        "all_courses.extend(['abc']) # adds another list to the end of a list\n",
        "print(all_courses)"
      ],
      "execution_count": 10,
      "outputs": [
        {
          "output_type": "stream",
          "text": [
            "['C', 'C++', 'JAVA', 'JS', 'C Charp', 'PHP', 'Python', 'Data structure', 'Algorithm', 'AI', 'abc']\n"
          ],
          "name": "stdout"
        }
      ]
    },
    {
      "cell_type": "code",
      "metadata": {
        "id": "Z_zF0va_dt6d",
        "colab_type": "code",
        "colab": {
          "base_uri": "https://localhost:8080/",
          "height": 34
        },
        "outputId": "ab65d737-639c-4065-e89b-ab573bdd0b08"
      },
      "source": [
        "all_courses.extend('abcxyz') # remindful of strings while using extend method\n",
        "print(all_courses)"
      ],
      "execution_count": 11,
      "outputs": [
        {
          "output_type": "stream",
          "text": [
            "['C', 'C++', 'JAVA', 'JS', 'C Charp', 'PHP', 'Python', 'Data structure', 'Algorithm', 'AI', 'abc', 'a', 'b', 'c', 'x', 'y', 'z']\n"
          ],
          "name": "stdout"
        }
      ]
    },
    {
      "cell_type": "markdown",
      "metadata": {
        "id": "eLmJEr3Bdt0x",
        "colab_type": "text"
      },
      "source": [
        ""
      ]
    },
    {
      "cell_type": "markdown",
      "metadata": {
        "id": "FIgl5X6SdvZq",
        "colab_type": "text"
      },
      "source": [
        "**Delete items from a list**\n",
        "\n",
        "\n",
        "1.   pop()     # remove an item by index and get its value\n",
        "2.   remove()  # remove an item by value\n",
        "3.   del()     # remove items by idex or by slice\n",
        "4.   clear()   # remove all items\n",
        "5.   list comprehensions can be used to remove multiple items that meet some conditions.\n",
        "\n"
      ]
    },
    {
      "cell_type": "code",
      "metadata": {
        "id": "jyOwpAdBes0P",
        "colab_type": "code",
        "colab": {
          "base_uri": "https://localhost:8080/",
          "height": 51
        },
        "outputId": "57215f6b-52c6-47b8-cd90-10f08d8433ff"
      },
      "source": [
        "# pop() ---> remove and return the last element of the list\n",
        "poped_item = all_courses.pop()\n",
        "print(poped_item)\n",
        "print(all_courses)"
      ],
      "execution_count": 12,
      "outputs": [
        {
          "output_type": "stream",
          "text": [
            "z\n",
            "['C', 'C++', 'JAVA', 'JS', 'C Charp', 'PHP', 'Python', 'Data structure', 'Algorithm', 'AI', 'abc', 'a', 'b', 'c', 'x', 'y']\n"
          ],
          "name": "stdout"
        }
      ]
    },
    {
      "cell_type": "code",
      "metadata": {
        "id": "Z2vwvGMCfPUW",
        "colab_type": "code",
        "colab": {
          "base_uri": "https://localhost:8080/",
          "height": 85
        },
        "outputId": "84b34b56-244d-4fca-8c18-3c1a68e04919"
      },
      "source": [
        "poped_item = all_courses.pop()\n",
        "print(poped_item)\n",
        "print(all_courses)\n",
        "\n",
        "poped_item = all_courses.pop()\n",
        "print(poped_item)\n",
        "print(all_courses)"
      ],
      "execution_count": 13,
      "outputs": [
        {
          "output_type": "stream",
          "text": [
            "y\n",
            "['C', 'C++', 'JAVA', 'JS', 'C Charp', 'PHP', 'Python', 'Data structure', 'Algorithm', 'AI', 'abc', 'a', 'b', 'c', 'x']\n",
            "x\n",
            "['C', 'C++', 'JAVA', 'JS', 'C Charp', 'PHP', 'Python', 'Data structure', 'Algorithm', 'AI', 'abc', 'a', 'b', 'c']\n"
          ],
          "name": "stdout"
        }
      ]
    },
    {
      "cell_type": "code",
      "metadata": {
        "id": "HLG_s9Zafn57",
        "colab_type": "code",
        "colab": {
          "base_uri": "https://localhost:8080/",
          "height": 51
        },
        "outputId": "5b51668f-9d1c-4479-fee9-bdbc8b12b8c2"
      },
      "source": [
        "print(all_courses.pop(11))\n",
        "print(all_courses)"
      ],
      "execution_count": 14,
      "outputs": [
        {
          "output_type": "stream",
          "text": [
            "a\n",
            "['C', 'C++', 'JAVA', 'JS', 'C Charp', 'PHP', 'Python', 'Data structure', 'Algorithm', 'AI', 'abc', 'b', 'c']\n"
          ],
          "name": "stdout"
        }
      ]
    },
    {
      "cell_type": "code",
      "metadata": {
        "id": "8AiWFBWSgAHB",
        "colab_type": "code",
        "colab": {
          "base_uri": "https://localhost:8080/",
          "height": 51
        },
        "outputId": "d6ff7378-156b-4642-cad8-37473a98d1c1"
      },
      "source": [
        "print(all_courses.pop(-1))\n",
        "print(all_courses)"
      ],
      "execution_count": 15,
      "outputs": [
        {
          "output_type": "stream",
          "text": [
            "c\n",
            "['C', 'C++', 'JAVA', 'JS', 'C Charp', 'PHP', 'Python', 'Data structure', 'Algorithm', 'AI', 'abc', 'b']\n"
          ],
          "name": "stdout"
        }
      ]
    },
    {
      "cell_type": "code",
      "metadata": {
        "id": "a6m-jnlugUIz",
        "colab_type": "code",
        "colab": {
          "base_uri": "https://localhost:8080/",
          "height": 34
        },
        "outputId": "b1ecd629-389b-4e3f-b5fb-10fe82944db3"
      },
      "source": [
        "\n",
        "# The slice operator (:) allows to index multiple adjacent elements\n",
        "# listName[x:y] ---> get a slice from index x (inclusive) to y (exclusive)\n",
        "\n",
        "print(all_courses[0:2])\n"
      ],
      "execution_count": 16,
      "outputs": [
        {
          "output_type": "stream",
          "text": [
            "['C', 'C++']\n"
          ],
          "name": "stdout"
        }
      ]
    },
    {
      "cell_type": "code",
      "metadata": {
        "id": "8bJGQgRxiT_S",
        "colab_type": "code",
        "colab": {
          "base_uri": "https://localhost:8080/",
          "height": 34
        },
        "outputId": "3e38c09f-3b58-4704-c8ba-524891f3a45b"
      },
      "source": [
        "print(all_courses[:3])"
      ],
      "execution_count": 17,
      "outputs": [
        {
          "output_type": "stream",
          "text": [
            "['C', 'C++', 'JAVA']\n"
          ],
          "name": "stdout"
        }
      ]
    },
    {
      "cell_type": "code",
      "metadata": {
        "id": "4LfjLUc2inFK",
        "colab_type": "code",
        "colab": {
          "base_uri": "https://localhost:8080/",
          "height": 34
        },
        "outputId": "22040958-0379-4d4d-aef5-a5a8a69fdb8d"
      },
      "source": [
        "print(all_courses[:-1])"
      ],
      "execution_count": 18,
      "outputs": [
        {
          "output_type": "stream",
          "text": [
            "['C', 'C++', 'JAVA', 'JS', 'C Charp', 'PHP', 'Python', 'Data structure', 'Algorithm', 'AI', 'abc']\n"
          ],
          "name": "stdout"
        }
      ]
    },
    {
      "cell_type": "code",
      "metadata": {
        "id": "8cikIoQ8i8Bn",
        "colab_type": "code",
        "colab": {
          "base_uri": "https://localhost:8080/",
          "height": 34
        },
        "outputId": "b121ffc3-7b83-420e-dab6-39a01bf2f545"
      },
      "source": [
        "print(all_courses[2:-2])"
      ],
      "execution_count": 19,
      "outputs": [
        {
          "output_type": "stream",
          "text": [
            "['JAVA', 'JS', 'C Charp', 'PHP', 'Python', 'Data structure', 'Algorithm', 'AI']\n"
          ],
          "name": "stdout"
        }
      ]
    },
    {
      "cell_type": "code",
      "metadata": {
        "id": "rj-ELyM2jH_N",
        "colab_type": "code",
        "colab": {
          "base_uri": "https://localhost:8080/",
          "height": 34
        },
        "outputId": "51d23d67-5d42-4b0f-eb8b-23c9dc9d8eb9"
      },
      "source": [
        "# List can contain any data structure\n",
        "listOfMixedType = ['abc', 1, 'x', 3.34]\n",
        "print(listOfMixedType)"
      ],
      "execution_count": 20,
      "outputs": [
        {
          "output_type": "stream",
          "text": [
            "['abc', 1, 'x', 3.34]\n"
          ],
          "name": "stdout"
        }
      ]
    },
    {
      "cell_type": "code",
      "metadata": {
        "id": "gi84EDGGjqmg",
        "colab_type": "code",
        "colab": {
          "base_uri": "https://localhost:8080/",
          "height": 34
        },
        "outputId": "f97ad561-83a1-4bc7-d4de-e51902b22ed4"
      },
      "source": [
        "listOfLists = [ ['a','b'], [1,2,3,4],['One',\"Two\",'Three']]\n",
        "print(listOfLists)"
      ],
      "execution_count": 21,
      "outputs": [
        {
          "output_type": "stream",
          "text": [
            "[['a', 'b'], [1, 2, 3, 4], ['One', 'Two', 'Three']]\n"
          ],
          "name": "stdout"
        }
      ]
    },
    {
      "cell_type": "code",
      "metadata": {
        "id": "xdZcOTPYkBEa",
        "colab_type": "code",
        "colab": {
          "base_uri": "https://localhost:8080/",
          "height": 34
        },
        "outputId": "c71f587f-b02f-4741-c70a-27515aa177d9"
      },
      "source": [
        "print(listOfLists[2][1])"
      ],
      "execution_count": 22,
      "outputs": [
        {
          "output_type": "stream",
          "text": [
            "Two\n"
          ],
          "name": "stdout"
        }
      ]
    },
    {
      "cell_type": "code",
      "metadata": {
        "id": "ppTEHTn4kQUa",
        "colab_type": "code",
        "colab": {
          "base_uri": "https://localhost:8080/",
          "height": 51
        },
        "outputId": "dcd9b588-25c2-480d-cc4b-cc3622ecc5f5"
      },
      "source": [
        "# some useful methods while working with lists\n",
        "print(listOfLists)\n",
        "listOfLists.pop()\n",
        "print(listOfLists)"
      ],
      "execution_count": 23,
      "outputs": [
        {
          "output_type": "stream",
          "text": [
            "[['a', 'b'], [1, 2, 3, 4], ['One', 'Two', 'Three']]\n",
            "[['a', 'b'], [1, 2, 3, 4]]\n"
          ],
          "name": "stdout"
        }
      ]
    },
    {
      "cell_type": "code",
      "metadata": {
        "id": "wGpVt3wukykY",
        "colab_type": "code",
        "colab": {
          "base_uri": "https://localhost:8080/",
          "height": 68
        },
        "outputId": "209c8e9a-2904-42dd-87d8-9319ae6ea25a"
      },
      "source": [
        "x = ['a','b','c']\n",
        "print(x)\n",
        "x.reverse()\n",
        "print(x)\n",
        "print(x[:])"
      ],
      "execution_count": 28,
      "outputs": [
        {
          "output_type": "stream",
          "text": [
            "['a', 'b', 'c']\n",
            "['c', 'b', 'a']\n",
            "['c', 'b', 'a']\n"
          ],
          "name": "stdout"
        }
      ]
    },
    {
      "cell_type": "code",
      "metadata": {
        "id": "uXFevSt8lv11",
        "colab_type": "code",
        "colab": {
          "base_uri": "https://localhost:8080/",
          "height": 34
        },
        "outputId": "de24ab0c-71bb-470a-f160-4299e8544f83"
      },
      "source": [
        "print(len(x)) # Length of the list"
      ],
      "execution_count": 29,
      "outputs": [
        {
          "output_type": "stream",
          "text": [
            "3\n"
          ],
          "name": "stdout"
        }
      ]
    },
    {
      "cell_type": "code",
      "metadata": {
        "id": "jlwnjDRomu8-",
        "colab_type": "code",
        "colab": {
          "base_uri": "https://localhost:8080/",
          "height": 51
        },
        "outputId": "fd57137e-b5bb-4ff2-fea8-2df04c320182"
      },
      "source": [
        "x = ['a','b','c']\n",
        "print(x)\n",
        "x.reverse()\n",
        "print(x[1:])\n"
      ],
      "execution_count": 33,
      "outputs": [
        {
          "output_type": "stream",
          "text": [
            "['a', 'b', 'c']\n",
            "['b', 'a']\n"
          ],
          "name": "stdout"
        }
      ]
    },
    {
      "cell_type": "markdown",
      "metadata": {
        "id": "WQ4zCK29nVJR",
        "colab_type": "text"
      },
      "source": [
        "# remove() ---> remove an item by value. \n",
        "# Incase of multiple instances with same value, it will remove the 1st occarence only\n",
        "\n",
        "# Your task is to be familiar with remove(), del(), clear()"
      ]
    },
    {
      "cell_type": "markdown",
      "metadata": {
        "id": "ibv65j4Ins9Y",
        "colab_type": "text"
      },
      "source": [
        "Dictionary\n",
        "\n",
        "1.   Stores a map from one type of object (the KEY) to another (the VALUE)\n",
        "2.   Similar to Map in JAVA or an object in javascript\n",
        "3.   The KEY must be immutable type (string, number, or tuple)\n",
        "4.   The VALUE can be of any data type\n",
        "5.   The ordering of the keys depend on the hashing algorithm, thus it is usually arbitary\n",
        "6.   your code should not rely on the ordering of the keys in a Dictionary\n",
        "7.   Use curly brakets {} to create dictionary\n",
        "\n"
      ]
    },
    {
      "cell_type": "code",
      "metadata": {
        "id": "uJcXyTcYm7Tx",
        "colab_type": "code",
        "colab": {
          "base_uri": "https://localhost:8080/",
          "height": 34
        },
        "outputId": "b12c0985-0fd0-42e1-cd99-d0f1c4db4c2d"
      },
      "source": [
        "empDict = { 'Mashiour': 100, 'Manirul': 83.6, 'Dip': 93.4}\n",
        "print(empDict)"
      ],
      "execution_count": 35,
      "outputs": [
        {
          "output_type": "stream",
          "text": [
            "{'Mashiour': 100, 'Manirul': 83.6, 'Dip': 93.4}\n"
          ],
          "name": "stdout"
        }
      ]
    },
    {
      "cell_type": "code",
      "metadata": {
        "id": "8ZP5qbtNqfOG",
        "colab_type": "code",
        "colab": {
          "base_uri": "https://localhost:8080/",
          "height": 34
        },
        "outputId": "fe591fc7-b2dc-4eeb-e003-3aac591790ea"
      },
      "source": [
        "print(empDict['Dip'])"
      ],
      "execution_count": 36,
      "outputs": [
        {
          "output_type": "stream",
          "text": [
            "93.4\n"
          ],
          "name": "stdout"
        }
      ]
    },
    {
      "cell_type": "code",
      "metadata": {
        "id": "a8lxD__zquLU",
        "colab_type": "code",
        "colab": {
          "base_uri": "https://localhost:8080/",
          "height": 34
        },
        "outputId": "5d8e9198-96a8-45dc-9095-1a776c4d5c7c"
      },
      "source": [
        "empDict['Dip'] = 300\n",
        "print(empDict)"
      ],
      "execution_count": 37,
      "outputs": [
        {
          "output_type": "stream",
          "text": [
            "{'Mashiour': 100, 'Manirul': 83.6, 'Dip': 300}\n"
          ],
          "name": "stdout"
        }
      ]
    },
    {
      "cell_type": "code",
      "metadata": {
        "id": "fQawSC23ryi_",
        "colab_type": "code",
        "colab": {
          "base_uri": "https://localhost:8080/",
          "height": 68
        },
        "outputId": "101b3b4b-84e0-4f67-c758-36cee1e302f0"
      },
      "source": [
        "for i in empDict:\n",
        "    score = empDict[i]\n",
        "    print('%s has a review score of %f' % (i, score))"
      ],
      "execution_count": 40,
      "outputs": [
        {
          "output_type": "stream",
          "text": [
            "Mashiour has a review score of 100.000000\n",
            "Manirul has a review score of 83.600000\n",
            "Dip has a review score of 300.000000\n"
          ],
          "name": "stdout"
        }
      ]
    },
    {
      "cell_type": "code",
      "metadata": {
        "id": "bB9Sna86sO9b",
        "colab_type": "code",
        "colab": {
          "base_uri": "https://localhost:8080/",
          "height": 68
        },
        "outputId": "276d55e0-86e7-4e5a-f1f7-46f608fad1e6"
      },
      "source": [
        "for emp,score in empDict.items():\n",
        "    print('%s has a review score of %f' % (emp, score))"
      ],
      "execution_count": 41,
      "outputs": [
        {
          "output_type": "stream",
          "text": [
            "Mashiour has a review score of 100.000000\n",
            "Manirul has a review score of 83.600000\n",
            "Dip has a review score of 300.000000\n"
          ],
          "name": "stdout"
        }
      ]
    },
    {
      "cell_type": "code",
      "metadata": {
        "id": "-pYI0SjdtHsW",
        "colab_type": "code",
        "colab": {
          "base_uri": "https://localhost:8080/",
          "height": 34
        },
        "outputId": "15ecdf2d-3f25-440a-9adf-18b69f9c69ea"
      },
      "source": [
        "# use map() and filter()\n",
        "\n",
        "def addition(n):\n",
        "    return n+n\n",
        "\n",
        "numbers = [1,2,3,4]\n",
        "res = map(addition, numbers)\n",
        "print(list(res))"
      ],
      "execution_count": 44,
      "outputs": [
        {
          "output_type": "stream",
          "text": [
            "[2, 4, 6, 8]\n"
          ],
          "name": "stdout"
        }
      ]
    },
    {
      "cell_type": "code",
      "metadata": {
        "id": "OPxeb92dty5v",
        "colab_type": "code",
        "colab": {
          "base_uri": "https://localhost:8080/",
          "height": 34
        },
        "outputId": "6dfc8657-7877-4411-bdbd-bd3546ebf8cc"
      },
      "source": [
        "nums = [1,2,3,4,5,6]\n",
        "list(map(lambda x: x*x, nums ))"
      ],
      "execution_count": 47,
      "outputs": [
        {
          "output_type": "execute_result",
          "data": {
            "text/plain": [
              "[1, 4, 9, 16, 25, 36]"
            ]
          },
          "metadata": {
            "tags": []
          },
          "execution_count": 47
        }
      ]
    },
    {
      "cell_type": "code",
      "metadata": {
        "id": "xjv0Xsy6ueU0",
        "colab_type": "code",
        "colab": {
          "base_uri": "https://localhost:8080/",
          "height": 34
        },
        "outputId": "1ef46563-b134-4ef2-c3ca-a5e92fb8b3c7"
      },
      "source": [
        "list(filter(lambda a: a > 3, nums))"
      ],
      "execution_count": 48,
      "outputs": [
        {
          "output_type": "execute_result",
          "data": {
            "text/plain": [
              "[4, 5, 6]"
            ]
          },
          "metadata": {
            "tags": []
          },
          "execution_count": 48
        }
      ]
    },
    {
      "cell_type": "code",
      "metadata": {
        "id": "XSc1XoPKvkNI",
        "colab_type": "code",
        "colab": {}
      },
      "source": [
        "# sets\n",
        "# tuple\n",
        "# numpy\n",
        "# matplotlib\n",
        "# image operations"
      ],
      "execution_count": null,
      "outputs": []
    }
  ]
}