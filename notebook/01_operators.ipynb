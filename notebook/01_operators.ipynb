{
  "nbformat": 4,
  "nbformat_minor": 0,
  "metadata": {
    "colab": {
      "name": "01_operators.ipynb",
      "provenance": [],
      "collapsed_sections": []
    },
    "kernelspec": {
      "name": "python3",
      "display_name": "Python 3"
    }
  },
  "cells": [
    {
      "cell_type": "code",
      "metadata": {
        "id": "wKlC-uiSJ1MZ",
        "colab_type": "code",
        "colab": {
          "base_uri": "https://localhost:8080/",
          "height": 221
        },
        "outputId": "f1a01e46-f2ef-425f-ed92-755ab3350250"
      },
      "source": [
        "a = 5\n",
        "print(a)\n",
        "print(type(a)) # data type\n",
        "print(a + 1)   # addtion\n",
        "print(a - 1)   # subtract\n",
        "print(a * 2)   # multiplication\n",
        "print(a ** 2)  # exponentiation\n",
        "print(a / 2)   # division\n",
        "print(a // 2)  # int part of divition\n",
        "\n",
        "a += 1\n",
        "print(a)\n",
        "a *= 2\n",
        "print(a)\n",
        "\n",
        "b = 2.5\n",
        "print(type(b))\n",
        "print(b, b+1, b*2, b**2)"
      ],
      "execution_count": null,
      "outputs": [
        {
          "output_type": "stream",
          "text": [
            "5\n",
            "<class 'int'>\n",
            "6\n",
            "4\n",
            "10\n",
            "25\n",
            "2.5\n",
            "2\n",
            "6\n",
            "12\n",
            "<class 'float'>\n",
            "2.5 3.5 5.0 6.25\n"
          ],
          "name": "stdout"
        }
      ]
    },
    {
      "cell_type": "code",
      "metadata": {
        "id": "FW_QZ-0cM19R",
        "colab_type": "code",
        "colab": {
          "base_uri": "https://localhost:8080/",
          "height": 119
        },
        "outputId": "ed0b6405-7098-4e8c-aec4-2129b9021d56"
      },
      "source": [
        "t = True\n",
        "f = False\n",
        "print(type(t))\n",
        "print(type(f))\n",
        "print(t and f) # logical AND \n",
        "print(t or f)  # logical OR\n",
        "print(not t)   # logical NOT\n",
        "print(t != f)  # logical XOR"
      ],
      "execution_count": null,
      "outputs": [
        {
          "output_type": "stream",
          "text": [
            "<class 'bool'>\n",
            "<class 'bool'>\n",
            "False\n",
            "True\n",
            "False\n",
            "True\n"
          ],
          "name": "stdout"
        }
      ]
    },
    {
      "cell_type": "code",
      "metadata": {
        "id": "tXI_3_fON2zY",
        "colab_type": "code",
        "colab": {
          "base_uri": "https://localhost:8080/",
          "height": 119
        },
        "outputId": "b3639090-7bed-442e-ffbc-852e37828278"
      },
      "source": [
        "s  = \"hello\"\n",
        "print(s.capitalize())  # capitalize the 1st char\n",
        "print(s.upper())       # convert a string to upper case\n",
        "print(s.rjust(50))     # right-justify the string with ** space\n",
        "print(s.center(50))    # center a string\n",
        "print(s.replace('l', '(ell)'))  # replaces all the instances of the string with the new substring\n",
        "print('    wo  rld                   '.strip(), \"test\")      # removing white spaces from the beginning or from the end\n",
        "\n"
      ],
      "execution_count": null,
      "outputs": [
        {
          "output_type": "stream",
          "text": [
            "Hello\n",
            "HELLO\n",
            "                                             hello\n",
            "                      hello                       \n",
            "he(ell)(ell)o\n",
            "wo  rld test\n"
          ],
          "name": "stdout"
        }
      ]
    },
    {
      "cell_type": "code",
      "metadata": {
        "id": "UehAvcscPHvs",
        "colab_type": "code",
        "colab": {
          "base_uri": "https://localhost:8080/",
          "height": 119
        },
        "outputId": "fd2b532c-3393-4b7c-d528-a2d253d2ef88"
      },
      "source": [
        "for i in range(5):\n",
        "    print(i)\n",
        "arr = [1,2,3]\n",
        "print(arr)\n"
      ],
      "execution_count": null,
      "outputs": [
        {
          "output_type": "stream",
          "text": [
            "0\n",
            "1\n",
            "2\n",
            "3\n",
            "4\n",
            "[1, 2, 3]\n"
          ],
          "name": "stdout"
        }
      ]
    },
    {
      "cell_type": "code",
      "metadata": {
        "id": "WblklUqFTcr5",
        "colab_type": "code",
        "colab": {}
      },
      "source": [
        ""
      ],
      "execution_count": null,
      "outputs": []
    }
  ]
}