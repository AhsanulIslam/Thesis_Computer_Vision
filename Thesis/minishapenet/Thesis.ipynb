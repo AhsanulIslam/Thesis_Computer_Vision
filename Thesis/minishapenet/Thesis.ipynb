{
 "cells": [
  {
   "cell_type": "markdown",
   "metadata": {
    "id": "Ozd33GJXO8zX"
   },
   "source": [
    "#Load Drive [V]\n",
    "\n"
   ]
  },
  {
   "cell_type": "code",
   "execution_count": 1,
   "metadata": {
    "colab": {
     "base_uri": "https://localhost:8080/"
    },
    "id": "6JrPNEe8Ovz7",
    "outputId": "b8a88f51-d160-44ee-ef77-92191840bf9f"
   },
   "outputs": [
    {
     "name": "stdout",
     "output_type": "stream",
     "text": [
      "Mounted at /content/gdrive\n"
     ]
    }
   ],
   "source": [
    "from google.colab import drive\n",
    "drive.mount('/content/gdrive')"
   ]
  },
  {
   "cell_type": "markdown",
   "metadata": {
    "id": "p_5tUn7RPDoy"
   },
   "source": [
    "#Unzip Dataset [V]"
   ]
  },
  {
   "cell_type": "code",
   "execution_count": null,
   "metadata": {
    "colab": {
     "base_uri": "https://localhost:8080/"
    },
    "id": "xpPB6KbrRj3E",
    "outputId": "ee13267d-f00a-42d8-a9d4-ccf994bd225e"
   },
   "outputs": [
    {
     "name": "stdout",
     "output_type": "stream",
     "text": [
      "gdrive\tsample_data\n"
     ]
    }
   ],
   "source": [
    "!ls\n"
   ]
  },
  {
   "cell_type": "code",
   "execution_count": 2,
   "metadata": {
    "colab": {
     "base_uri": "https://localhost:8080/"
    },
    "id": "6EaqsKllPJ2a",
    "outputId": "5da03537-4a70-4b9f-c36a-553c7cf751f1"
   },
   "outputs": [
    {
     "name": "stdout",
     "output_type": "stream",
     "text": [
      "Archive:  gdrive/MyDrive/minishapenet/val_voxels.zip\n",
      "   creating: val_voxels/\n",
      "   creating: val_voxels/000009/\n",
      "  inflating: val_voxels/000009/model.mat  \n",
      "   creating: val_voxels/000022/\n",
      "  inflating: val_voxels/000022/model.mat  \n",
      "   creating: val_voxels/000023/\n",
      "  inflating: val_voxels/000023/model.mat  \n",
      "   creating: val_voxels/000029/\n",
      "  inflating: val_voxels/000029/model.mat  \n",
      "   creating: val_voxels/000031/\n",
      "  inflating: val_voxels/000031/model.mat  \n",
      "   creating: val_voxels/000037/\n",
      "  inflating: val_voxels/000037/model.mat  \n",
      "   creating: val_voxels/000047/\n",
      "  inflating: val_voxels/000047/model.mat  \n",
      "   creating: val_voxels/000061/\n",
      "  inflating: val_voxels/000061/model.mat  \n",
      "   creating: val_voxels/000071/\n",
      "  inflating: val_voxels/000071/model.mat  \n",
      "   creating: val_voxels/000077/\n",
      "  inflating: val_voxels/000077/model.mat  \n",
      "Archive:  gdrive/MyDrive/minishapenet/train_voxels.zip\n",
      "   creating: train_voxels/\n",
      "   creating: train_voxels/000003/\n",
      "  inflating: train_voxels/000003/model.mat  \n",
      "   creating: train_voxels/000004/\n",
      "  inflating: train_voxels/000004/model.mat  \n",
      "   creating: train_voxels/000005/\n",
      "  inflating: train_voxels/000005/model.mat  \n",
      "   creating: train_voxels/000007/\n",
      "  inflating: train_voxels/000007/model.mat  \n",
      "   creating: train_voxels/000010/\n",
      "  inflating: train_voxels/000010/model.mat  \n",
      "   creating: train_voxels/000012/\n",
      "  inflating: train_voxels/000012/model.mat  \n",
      "   creating: train_voxels/000014/\n",
      "  inflating: train_voxels/000014/model.mat  \n",
      "   creating: train_voxels/000016/\n",
      "  inflating: train_voxels/000016/model.mat  \n",
      "   creating: train_voxels/000018/\n",
      "  inflating: train_voxels/000018/model.mat  \n",
      "Archive:  gdrive/MyDrive/minishapenet/val_imgs.zip\n",
      "   creating: val_imgs/\n",
      "   creating: val_imgs/000009/\n",
      "  inflating: val_imgs/000009/000.png  \n",
      "  inflating: val_imgs/000009/001.png  \n",
      "  inflating: val_imgs/000009/002.png  \n",
      "  inflating: val_imgs/000009/003.png  \n",
      "  inflating: val_imgs/000009/004.png  \n",
      "  inflating: val_imgs/000009/005.png  \n",
      "  inflating: val_imgs/000009/006.png  \n",
      "  inflating: val_imgs/000009/007.png  \n",
      "  inflating: val_imgs/000009/008.png  \n",
      "  inflating: val_imgs/000009/009.png  \n",
      "  inflating: val_imgs/000009/010.png  \n",
      "  inflating: val_imgs/000009/011.png  \n",
      "   creating: val_imgs/000022/\n",
      "  inflating: val_imgs/000022/000.png  \n",
      "  inflating: val_imgs/000022/001.png  \n",
      "  inflating: val_imgs/000022/002.png  \n",
      "  inflating: val_imgs/000022/003.png  \n",
      "  inflating: val_imgs/000022/004.png  \n",
      "  inflating: val_imgs/000022/005.png  \n",
      "  inflating: val_imgs/000022/006.png  \n",
      "  inflating: val_imgs/000022/007.png  \n",
      "  inflating: val_imgs/000022/008.png  \n",
      "  inflating: val_imgs/000022/009.png  \n",
      "  inflating: val_imgs/000022/010.png  \n",
      "  inflating: val_imgs/000022/011.png  \n",
      "   creating: val_imgs/000023/\n",
      "  inflating: val_imgs/000023/000.png  \n",
      "  inflating: val_imgs/000023/001.png  \n",
      "  inflating: val_imgs/000023/002.png  \n",
      "  inflating: val_imgs/000023/003.png  \n",
      "  inflating: val_imgs/000023/004.png  \n",
      "  inflating: val_imgs/000023/005.png  \n",
      "  inflating: val_imgs/000023/006.png  \n",
      "  inflating: val_imgs/000023/007.png  \n",
      "  inflating: val_imgs/000023/008.png  \n",
      "  inflating: val_imgs/000023/009.png  \n",
      "  inflating: val_imgs/000023/010.png  \n",
      "  inflating: val_imgs/000023/011.png  \n",
      "   creating: val_imgs/000029/\n",
      "  inflating: val_imgs/000029/000.png  \n",
      "  inflating: val_imgs/000029/001.png  \n",
      "  inflating: val_imgs/000029/002.png  \n",
      "  inflating: val_imgs/000029/003.png  \n",
      "  inflating: val_imgs/000029/004.png  \n",
      "  inflating: val_imgs/000029/005.png  \n",
      "  inflating: val_imgs/000029/006.png  \n",
      "  inflating: val_imgs/000029/007.png  \n",
      "  inflating: val_imgs/000029/008.png  \n",
      "  inflating: val_imgs/000029/009.png  \n",
      "  inflating: val_imgs/000029/010.png  \n",
      "  inflating: val_imgs/000029/011.png  \n",
      "   creating: val_imgs/000031/\n",
      "  inflating: val_imgs/000031/000.png  \n",
      "  inflating: val_imgs/000031/001.png  \n",
      "  inflating: val_imgs/000031/002.png  \n",
      "  inflating: val_imgs/000031/003.png  \n",
      "  inflating: val_imgs/000031/004.png  \n",
      "  inflating: val_imgs/000031/005.png  \n",
      "  inflating: val_imgs/000031/006.png  \n",
      "  inflating: val_imgs/000031/007.png  \n",
      "  inflating: val_imgs/000031/008.png  \n",
      "  inflating: val_imgs/000031/009.png  \n",
      "  inflating: val_imgs/000031/010.png  \n",
      "  inflating: val_imgs/000031/011.png  \n",
      "   creating: val_imgs/000037/\n",
      "  inflating: val_imgs/000037/000.png  \n",
      "  inflating: val_imgs/000037/001.png  \n",
      "  inflating: val_imgs/000037/002.png  \n",
      "  inflating: val_imgs/000037/003.png  \n",
      "  inflating: val_imgs/000037/004.png  \n",
      "  inflating: val_imgs/000037/005.png  \n",
      "  inflating: val_imgs/000037/006.png  \n",
      "  inflating: val_imgs/000037/007.png  \n",
      "  inflating: val_imgs/000037/008.png  \n",
      "  inflating: val_imgs/000037/009.png  \n",
      "  inflating: val_imgs/000037/010.png  \n",
      "  inflating: val_imgs/000037/011.png  \n",
      "   creating: val_imgs/000047/\n",
      "  inflating: val_imgs/000047/000.png  \n",
      "  inflating: val_imgs/000047/001.png  \n",
      "  inflating: val_imgs/000047/002.png  \n",
      "  inflating: val_imgs/000047/003.png  \n",
      "  inflating: val_imgs/000047/004.png  \n",
      "  inflating: val_imgs/000047/005.png  \n",
      "  inflating: val_imgs/000047/006.png  \n",
      "  inflating: val_imgs/000047/007.png  \n",
      "  inflating: val_imgs/000047/008.png  \n",
      "  inflating: val_imgs/000047/009.png  \n",
      "  inflating: val_imgs/000047/010.png  \n",
      "  inflating: val_imgs/000047/011.png  \n",
      "   creating: val_imgs/000061/\n",
      "  inflating: val_imgs/000061/000.png  \n",
      "  inflating: val_imgs/000061/001.png  \n",
      "  inflating: val_imgs/000061/002.png  \n",
      "  inflating: val_imgs/000061/003.png  \n",
      "  inflating: val_imgs/000061/004.png  \n",
      "  inflating: val_imgs/000061/005.png  \n",
      "  inflating: val_imgs/000061/006.png  \n",
      "  inflating: val_imgs/000061/007.png  \n",
      "  inflating: val_imgs/000061/008.png  \n",
      "  inflating: val_imgs/000061/009.png  \n",
      "  inflating: val_imgs/000061/010.png  \n",
      "  inflating: val_imgs/000061/011.png  \n",
      "   creating: val_imgs/000071/\n",
      "  inflating: val_imgs/000071/000.png  \n",
      "  inflating: val_imgs/000071/001.png  \n",
      "  inflating: val_imgs/000071/002.png  \n",
      "  inflating: val_imgs/000071/003.png  \n",
      "  inflating: val_imgs/000071/004.png  \n",
      "  inflating: val_imgs/000071/005.png  \n",
      "  inflating: val_imgs/000071/006.png  \n",
      "  inflating: val_imgs/000071/007.png  \n",
      "  inflating: val_imgs/000071/008.png  \n",
      "  inflating: val_imgs/000071/009.png  \n",
      "  inflating: val_imgs/000071/010.png  \n",
      "  inflating: val_imgs/000071/011.png  \n",
      "   creating: val_imgs/000077/\n",
      "  inflating: val_imgs/000077/000.png  \n",
      "  inflating: val_imgs/000077/001.png  \n",
      "  inflating: val_imgs/000077/002.png  \n",
      "  inflating: val_imgs/000077/003.png  \n",
      "  inflating: val_imgs/000077/004.png  \n",
      "  inflating: val_imgs/000077/005.png  \n",
      "  inflating: val_imgs/000077/006.png  \n",
      "  inflating: val_imgs/000077/007.png  \n",
      "  inflating: val_imgs/000077/008.png  \n",
      "  inflating: val_imgs/000077/009.png  \n",
      "  inflating: val_imgs/000077/010.png  \n",
      "  inflating: val_imgs/000077/011.png  \n",
      "Archive:  gdrive/MyDrive/minishapenet/train_imgs.zip\n",
      "   creating: train_imgs/\n",
      "   creating: train_imgs/000003/\n",
      "  inflating: train_imgs/000003/000.png  \n",
      "  inflating: train_imgs/000003/001.png  \n",
      "  inflating: train_imgs/000003/002.png  \n",
      "  inflating: train_imgs/000003/003.png  \n",
      "  inflating: train_imgs/000003/004.png  \n",
      "  inflating: train_imgs/000003/005.png  \n",
      "  inflating: train_imgs/000003/006.png  \n",
      "  inflating: train_imgs/000003/007.png  \n",
      "  inflating: train_imgs/000003/008.png  \n",
      "  inflating: train_imgs/000003/009.png  \n",
      "  inflating: train_imgs/000003/010.png  \n",
      "  inflating: train_imgs/000003/011.png  \n",
      "   creating: train_imgs/000004/\n",
      "  inflating: train_imgs/000004/000.png  \n",
      "  inflating: train_imgs/000004/001.png  \n",
      "  inflating: train_imgs/000004/002.png  \n",
      "  inflating: train_imgs/000004/003.png  \n",
      "  inflating: train_imgs/000004/004.png  \n",
      "  inflating: train_imgs/000004/005.png  \n",
      "  inflating: train_imgs/000004/006.png  \n",
      "  inflating: train_imgs/000004/007.png  \n",
      "  inflating: train_imgs/000004/008.png  \n",
      "  inflating: train_imgs/000004/009.png  \n",
      "  inflating: train_imgs/000004/010.png  \n",
      "  inflating: train_imgs/000004/011.png  \n",
      "   creating: train_imgs/000005/\n",
      "  inflating: train_imgs/000005/000.png  \n",
      "  inflating: train_imgs/000005/001.png  \n",
      "  inflating: train_imgs/000005/002.png  \n",
      "  inflating: train_imgs/000005/003.png  \n",
      "  inflating: train_imgs/000005/004.png  \n",
      "  inflating: train_imgs/000005/005.png  \n",
      "  inflating: train_imgs/000005/006.png  \n",
      "  inflating: train_imgs/000005/007.png  \n",
      "  inflating: train_imgs/000005/008.png  \n",
      "  inflating: train_imgs/000005/009.png  \n",
      "  inflating: train_imgs/000005/010.png  \n",
      "  inflating: train_imgs/000005/011.png  \n",
      "   creating: train_imgs/000007/\n",
      "  inflating: train_imgs/000007/000.png  \n",
      "  inflating: train_imgs/000007/001.png  \n",
      "  inflating: train_imgs/000007/002.png  \n",
      "  inflating: train_imgs/000007/003.png  \n",
      "  inflating: train_imgs/000007/004.png  \n",
      "  inflating: train_imgs/000007/005.png  \n",
      "  inflating: train_imgs/000007/006.png  \n",
      "  inflating: train_imgs/000007/007.png  \n",
      "  inflating: train_imgs/000007/008.png  \n",
      "  inflating: train_imgs/000007/009.png  \n",
      "  inflating: train_imgs/000007/010.png  \n",
      "  inflating: train_imgs/000007/011.png  \n",
      "   creating: train_imgs/000010/\n",
      "  inflating: train_imgs/000010/000.png  \n",
      "  inflating: train_imgs/000010/001.png  \n",
      "  inflating: train_imgs/000010/002.png  \n",
      "  inflating: train_imgs/000010/003.png  \n",
      "  inflating: train_imgs/000010/004.png  \n",
      "  inflating: train_imgs/000010/005.png  \n",
      "  inflating: train_imgs/000010/006.png  \n",
      "  inflating: train_imgs/000010/007.png  \n",
      "  inflating: train_imgs/000010/008.png  \n",
      "  inflating: train_imgs/000010/009.png  \n",
      "  inflating: train_imgs/000010/010.png  \n",
      "  inflating: train_imgs/000010/011.png  \n",
      "   creating: train_imgs/000012/\n",
      "  inflating: train_imgs/000012/000.png  \n",
      "  inflating: train_imgs/000012/001.png  \n",
      "  inflating: train_imgs/000012/002.png  \n",
      "  inflating: train_imgs/000012/003.png  \n",
      "  inflating: train_imgs/000012/004.png  \n",
      "  inflating: train_imgs/000012/005.png  \n",
      "  inflating: train_imgs/000012/006.png  \n",
      "  inflating: train_imgs/000012/007.png  \n",
      "  inflating: train_imgs/000012/008.png  \n",
      "  inflating: train_imgs/000012/009.png  \n",
      "  inflating: train_imgs/000012/010.png  \n",
      "  inflating: train_imgs/000012/011.png  \n",
      "   creating: train_imgs/000014/\n",
      "  inflating: train_imgs/000014/000.png  \n",
      "  inflating: train_imgs/000014/001.png  \n",
      "  inflating: train_imgs/000014/002.png  \n",
      "  inflating: train_imgs/000014/003.png  \n",
      "  inflating: train_imgs/000014/004.png  \n",
      "  inflating: train_imgs/000014/005.png  \n",
      "  inflating: train_imgs/000014/006.png  \n",
      "  inflating: train_imgs/000014/007.png  \n",
      "  inflating: train_imgs/000014/008.png  \n",
      "  inflating: train_imgs/000014/009.png  \n",
      "  inflating: train_imgs/000014/010.png  \n",
      "  inflating: train_imgs/000014/011.png  \n",
      "   creating: train_imgs/000016/\n",
      "  inflating: train_imgs/000016/000.png  \n",
      "  inflating: train_imgs/000016/001.png  \n",
      "  inflating: train_imgs/000016/002.png  \n",
      "  inflating: train_imgs/000016/003.png  \n",
      "  inflating: train_imgs/000016/004.png  \n",
      "  inflating: train_imgs/000016/005.png  \n",
      "  inflating: train_imgs/000016/006.png  \n",
      "  inflating: train_imgs/000016/007.png  \n",
      "  inflating: train_imgs/000016/008.png  \n",
      "  inflating: train_imgs/000016/009.png  \n",
      "  inflating: train_imgs/000016/010.png  \n",
      "  inflating: train_imgs/000016/011.png  \n",
      "   creating: train_imgs/000018/\n",
      "  inflating: train_imgs/000018/000.png  \n",
      "  inflating: train_imgs/000018/001.png  \n",
      "  inflating: train_imgs/000018/002.png  \n",
      "  inflating: train_imgs/000018/003.png  \n",
      "  inflating: train_imgs/000018/004.png  \n",
      "  inflating: train_imgs/000018/005.png  \n",
      "  inflating: train_imgs/000018/006.png  \n",
      "  inflating: train_imgs/000018/007.png  \n",
      "  inflating: train_imgs/000018/008.png  \n",
      "  inflating: train_imgs/000018/009.png  \n",
      "  inflating: train_imgs/000018/010.png  \n",
      "  inflating: train_imgs/000018/011.png  \n",
      "   creating: train_imgs/000020/\n",
      "  inflating: train_imgs/000020/000.png  \n",
      "  inflating: train_imgs/000020/001.png  \n",
      "  inflating: train_imgs/000020/002.png  \n",
      "  inflating: train_imgs/000020/003.png  \n",
      "  inflating: train_imgs/000020/004.png  \n",
      "  inflating: train_imgs/000020/005.png  \n",
      "  inflating: train_imgs/000020/006.png  \n",
      "  inflating: train_imgs/000020/007.png  \n",
      "  inflating: train_imgs/000020/008.png  \n",
      "  inflating: train_imgs/000020/009.png  \n",
      "  inflating: train_imgs/000020/010.png  \n",
      "  inflating: train_imgs/000020/011.png  \n",
      "Archive:  gdrive/MyDrive/minishapenet/test_imgs.zip\n",
      "   creating: test_imgs/\n",
      "   creating: test_imgs/000001/\n",
      "  inflating: test_imgs/000001/000.png  \n",
      "  inflating: test_imgs/000001/001.png  \n",
      "  inflating: test_imgs/000001/002.png  \n",
      "  inflating: test_imgs/000001/003.png  \n",
      "  inflating: test_imgs/000001/004.png  \n",
      "  inflating: test_imgs/000001/005.png  \n",
      "  inflating: test_imgs/000001/006.png  \n",
      "  inflating: test_imgs/000001/007.png  \n",
      "  inflating: test_imgs/000001/008.png  \n",
      "  inflating: test_imgs/000001/009.png  \n",
      "  inflating: test_imgs/000001/010.png  \n",
      "  inflating: test_imgs/000001/011.png  \n",
      "   creating: test_imgs/000002/\n",
      "  inflating: test_imgs/000002/000.png  \n",
      "  inflating: test_imgs/000002/001.png  \n",
      "  inflating: test_imgs/000002/002.png  \n",
      "  inflating: test_imgs/000002/003.png  \n",
      "  inflating: test_imgs/000002/004.png  \n",
      "  inflating: test_imgs/000002/005.png  \n",
      "  inflating: test_imgs/000002/006.png  \n",
      "  inflating: test_imgs/000002/007.png  \n",
      "  inflating: test_imgs/000002/008.png  \n",
      "  inflating: test_imgs/000002/009.png  \n",
      "  inflating: test_imgs/000002/010.png  \n",
      "  inflating: test_imgs/000002/011.png  \n",
      "   creating: test_imgs/000006/\n",
      "  inflating: test_imgs/000006/000.png  \n",
      "  inflating: test_imgs/000006/001.png  \n",
      "  inflating: test_imgs/000006/002.png  \n",
      "  inflating: test_imgs/000006/003.png  \n",
      "  inflating: test_imgs/000006/004.png  \n",
      "  inflating: test_imgs/000006/005.png  \n",
      "  inflating: test_imgs/000006/006.png  \n",
      "  inflating: test_imgs/000006/007.png  \n",
      "  inflating: test_imgs/000006/008.png  \n",
      "  inflating: test_imgs/000006/009.png  \n",
      "  inflating: test_imgs/000006/010.png  \n",
      "  inflating: test_imgs/000006/011.png  \n",
      "   creating: test_imgs/000008/\n",
      "  inflating: test_imgs/000008/000.png  \n",
      "  inflating: test_imgs/000008/001.png  \n",
      "  inflating: test_imgs/000008/002.png  \n",
      "  inflating: test_imgs/000008/003.png  \n",
      "  inflating: test_imgs/000008/004.png  \n",
      "  inflating: test_imgs/000008/005.png  \n",
      "  inflating: test_imgs/000008/006.png  \n",
      "  inflating: test_imgs/000008/007.png  \n",
      "  inflating: test_imgs/000008/008.png  \n",
      "  inflating: test_imgs/000008/009.png  \n",
      "  inflating: test_imgs/000008/010.png  \n",
      "  inflating: test_imgs/000008/011.png  \n",
      "   creating: test_imgs/000011/\n",
      "  inflating: test_imgs/000011/000.png  \n",
      "  inflating: test_imgs/000011/001.png  \n",
      "  inflating: test_imgs/000011/002.png  \n",
      "  inflating: test_imgs/000011/003.png  \n",
      "  inflating: test_imgs/000011/004.png  \n",
      "  inflating: test_imgs/000011/005.png  \n",
      "  inflating: test_imgs/000011/006.png  \n",
      "  inflating: test_imgs/000011/007.png  \n",
      "  inflating: test_imgs/000011/008.png  \n",
      "  inflating: test_imgs/000011/009.png  \n",
      "  inflating: test_imgs/000011/010.png  \n",
      "  inflating: test_imgs/000011/011.png  \n",
      "   creating: test_imgs/000013/\n",
      "  inflating: test_imgs/000013/000.png  \n",
      "  inflating: test_imgs/000013/001.png  \n",
      "  inflating: test_imgs/000013/002.png  \n",
      "  inflating: test_imgs/000013/003.png  \n",
      "  inflating: test_imgs/000013/004.png  \n",
      "  inflating: test_imgs/000013/005.png  \n",
      "  inflating: test_imgs/000013/006.png  \n",
      "  inflating: test_imgs/000013/007.png  \n",
      "  inflating: test_imgs/000013/008.png  \n",
      "  inflating: test_imgs/000013/009.png  \n",
      "  inflating: test_imgs/000013/010.png  \n",
      "  inflating: test_imgs/000013/011.png  \n",
      "   creating: test_imgs/000015/\n",
      "  inflating: test_imgs/000015/000.png  \n",
      "  inflating: test_imgs/000015/001.png  \n",
      "  inflating: test_imgs/000015/002.png  \n",
      "  inflating: test_imgs/000015/003.png  \n",
      "  inflating: test_imgs/000015/004.png  \n",
      "  inflating: test_imgs/000015/005.png  \n",
      "  inflating: test_imgs/000015/006.png  \n",
      "  inflating: test_imgs/000015/007.png  \n",
      "  inflating: test_imgs/000015/008.png  \n",
      "  inflating: test_imgs/000015/009.png  \n",
      "  inflating: test_imgs/000015/010.png  \n",
      "  inflating: test_imgs/000015/011.png  \n",
      "   creating: test_imgs/000017/\n",
      "  inflating: test_imgs/000017/000.png  \n",
      "  inflating: test_imgs/000017/001.png  \n",
      "  inflating: test_imgs/000017/002.png  \n",
      "  inflating: test_imgs/000017/003.png  \n",
      "  inflating: test_imgs/000017/004.png  \n",
      "  inflating: test_imgs/000017/005.png  \n",
      "  inflating: test_imgs/000017/006.png  \n",
      "  inflating: test_imgs/000017/007.png  \n",
      "  inflating: test_imgs/000017/008.png  \n",
      "  inflating: test_imgs/000017/009.png  \n",
      "  inflating: test_imgs/000017/010.png  \n",
      "  inflating: test_imgs/000017/011.png  \n",
      "   creating: test_imgs/000019/\n",
      "  inflating: test_imgs/000019/000.png  \n",
      "  inflating: test_imgs/000019/001.png  \n",
      "  inflating: test_imgs/000019/002.png  \n",
      "  inflating: test_imgs/000019/003.png  \n",
      "  inflating: test_imgs/000019/004.png  \n",
      "  inflating: test_imgs/000019/005.png  \n",
      "  inflating: test_imgs/000019/006.png  \n",
      "  inflating: test_imgs/000019/007.png  \n",
      "  inflating: test_imgs/000019/008.png  \n",
      "  inflating: test_imgs/000019/009.png  \n",
      "  inflating: test_imgs/000019/010.png  \n",
      "  inflating: test_imgs/000019/011.png  \n",
      "   creating: test_imgs/000026/\n",
      "  inflating: test_imgs/000026/000.png  \n",
      "  inflating: test_imgs/000026/001.png  \n",
      "  inflating: test_imgs/000026/002.png  \n",
      "  inflating: test_imgs/000026/003.png  \n",
      "  inflating: test_imgs/000026/004.png  \n",
      "  inflating: test_imgs/000026/005.png  \n",
      "  inflating: test_imgs/000026/006.png  \n",
      "  inflating: test_imgs/000026/007.png  \n",
      "  inflating: test_imgs/000026/008.png  \n",
      "  inflating: test_imgs/000026/009.png  \n",
      "  inflating: test_imgs/000026/010.png  \n",
      "  inflating: test_imgs/000026/011.png  \n"
     ]
    }
   ],
   "source": [
    "!unzip gdrive/MyDrive/minishapenet/val_voxels.zip\n",
    "!unzip gdrive/MyDrive/minishapenet/train_voxels.zip\n",
    "!unzip gdrive/MyDrive/minishapenet/val_imgs.zip\n",
    "!unzip gdrive/MyDrive/minishapenet/train_imgs.zip\n",
    "!unzip gdrive/MyDrive/minishapenet/test_imgs.zip"
   ]
  },
  {
   "cell_type": "markdown",
   "metadata": {
    "id": "TSoQKZ-ePMMm"
   },
   "source": [
    "#Load libraries + GPU option [V]"
   ]
  },
  {
   "cell_type": "markdown",
   "metadata": {
    "id": "UblTm8HwRutR"
   },
   "source": [
    "##GPU"
   ]
  },
  {
   "cell_type": "code",
   "execution_count": 3,
   "metadata": {
    "colab": {
     "base_uri": "https://localhost:8080/"
    },
    "id": "l0ygibHQRzLZ",
    "outputId": "983c58f3-9624-4b52-ba92-b3d440e7d364"
   },
   "outputs": [
    {
     "name": "stderr",
     "output_type": "stream",
     "text": [
      "UsageError: Line magic function `%tensorflow_version` not found.\n"
     ]
    }
   ],
   "source": [
    "%tensorflow_version 2.x\n",
    "import tensorflow as tf\n",
    "device_name = tf.test.gpu_device_name()\n",
    "if device_name != '/device:GPU:0':\n",
    "  raise SystemError('GPU device not found')\n",
    "print('Found GPU at: {}'.format(device_name))\n",
    "\n",
    "\n",
    "%tensorflow_version 2.x\n",
    "import tensorflow as tf\n",
    "import timeit\n",
    "device_name = tf.test.gpu_device_name()\n",
    "if device_name != '/device:GPU:0':\n",
    "  print(\n",
    "      '\\n\\nThis error most likely means that this notebook is not '\n",
    "      'configured to use a GPU.  Change this in Notebook Settings via the '\n",
    "      'command palette (cmd/ctrl-shift-P) or the Edit menu.\\n\\n')\n",
    "  raise SystemError('GPU device not found')"
   ]
  },
  {
   "cell_type": "markdown",
   "metadata": {
    "id": "EswEdUxZUmbv"
   },
   "source": [
    "##Other"
   ]
  },
  {
   "cell_type": "code",
   "execution_count": 4,
   "metadata": {
    "colab": {
     "base_uri": "https://localhost:8080/"
    },
    "id": "pm764tdcPQ0x",
    "outputId": "f1e373a9-8575-43e6-f375-9066dc0a34ef"
   },
   "outputs": [
    {
     "name": "stdout",
     "output_type": "stream",
     "text": [
      "2.3.1\n"
     ]
    }
   ],
   "source": [
    "\n",
    "import os\n",
    "import re\n",
    "from scipy import ndimage, misc\n",
    "from skimage.transform import resize, rescale\n",
    "from matplotlib import pyplot\n",
    "import matplotlib.pyplot as plt\n",
    "import numpy as np\n",
    "np.random.seed(0)\n",
    "import cv2\n",
    "from mpl_toolkits.mplot3d import Axes3D\n",
    "\n",
    "import matplotlib.pyplot as plt\n",
    "import scipy.io\n",
    "\n",
    "from scipy.ndimage import zoom\n",
    "from tensorflow.keras.layers import Input, Dense, Conv2D, MaxPooling2D, Dropout\n",
    "from tensorflow.keras.layers import Conv2DTranspose, UpSampling2D, add\n",
    "from tensorflow.keras.models import Model\n",
    "from tensorflow.keras import regularizers\n",
    "import tensorflow as tf\n",
    "\n",
    "print(tf.__version__)"
   ]
  },
  {
   "cell_type": "markdown",
   "metadata": {
    "id": "9-qHC92RPTbP"
   },
   "source": [
    "#Cread File loding funcition [V]"
   ]
  },
  {
   "cell_type": "markdown",
   "metadata": {
    "id": "LKUbb14ESNy6"
   },
   "source": [
    "##File loaders"
   ]
  },
  {
   "cell_type": "code",
   "execution_count": 5,
   "metadata": {
    "id": "xkFjrJH5SSXD"
   },
   "outputs": [],
   "source": [
    "def Collect_image(address):\n",
    "  image=cv2.imread(address)\n",
    "  image=resize(image,(256,256))\n",
    "  image=np.array([image])\n",
    "  return image\n",
    "def Collect_voxel(address):\n",
    "  voxel=scipy.io.loadmat(address)['input']\n",
    "  voxel=np.array(voxel)\n",
    "  return voxel"
   ]
  },
  {
   "cell_type": "markdown",
   "metadata": {
    "id": "BVqThPUmvt2b"
   },
   "source": [
    "##Address Loader\n"
   ]
  },
  {
   "cell_type": "code",
   "execution_count": 6,
   "metadata": {
    "colab": {
     "base_uri": "https://localhost:8080/"
    },
    "id": "WA95rxs4SCDP",
    "outputId": "0e45b3e4-88c0-4dcf-c223-dd1eab63cfdd"
   },
   "outputs": [
    {
     "name": "stdout",
     "output_type": "stream",
     "text": [
      "['./train_voxels\\\\000003/model.mat', './train_voxels\\\\000004/model.mat', './train_voxels\\\\000005/model.mat', './train_voxels\\\\000007/model.mat', './train_voxels\\\\000010/model.mat', './train_voxels\\\\000012/model.mat', './train_voxels\\\\000014/model.mat', './train_voxels\\\\000016/model.mat', './train_voxels\\\\000018/model.mat']\n"
     ]
    }
   ],
   "source": [
    "def pathFinder(path):\n",
    "  paths=[]\n",
    "  counti=0\n",
    "  for(root,dirs,files) in os.walk(path,topdown=True):\n",
    "    files.sort()\n",
    "    Tlist_files=files\n",
    "    if(len(files)==0):\n",
    "      Tdir_list=dirs\n",
    "      Tmain_root=root\n",
    "    if(len(files)!=0):\n",
    "      counti=counti+1\n",
    "      for i in range(len(files)):\n",
    "        path=root+'/'+files[i]\n",
    "        paths.append(path)\n",
    "  paths=sorted(paths)\n",
    "  return paths\n",
    "# !ls\n",
    "path=pathFinder('./train_voxels')\n",
    "print(path)"
   ]
  },
  {
   "cell_type": "markdown",
   "metadata": {
    "id": "DGwth4EWPRUD"
   },
   "source": [
    "#Create the neural net [V]\n",
    "\n",
    "\n"
   ]
  },
  {
   "cell_type": "code",
   "execution_count": 7,
   "metadata": {
    "colab": {
     "base_uri": "https://localhost:8080/"
    },
    "id": "ASkJA1bIuB2Q",
    "outputId": "6e8b2bda-bd2e-465d-d9bd-42202b2d1fd3"
   },
   "outputs": [
    {
     "name": "stdout",
     "output_type": "stream",
     "text": [
      "Model: \"functional_1\"\n",
      "_________________________________________________________________\n",
      "Layer (type)                 Output Shape              Param #   \n",
      "=================================================================\n",
      "input_1 (InputLayer)         [(None, 256, 256, 3)]     0         \n",
      "_________________________________________________________________\n",
      "l1 (Conv2D)                  (None, 256, 256, 32)      896       \n",
      "_________________________________________________________________\n",
      "l2_p (MaxPooling2D)          (None, 128, 128, 32)      0         \n",
      "_________________________________________________________________\n",
      "l6 (Conv2D)                  (None, 128, 128, 256)     73984     \n",
      "_________________________________________________________________\n",
      "l6_p (MaxPooling2D)          (None, 64, 64, 256)       0         \n",
      "_________________________________________________________________\n",
      "l8 (Conv2D)                  (None, 64, 64, 128)       295040    \n",
      "_________________________________________________________________\n",
      "l8_p (MaxPooling2D)          (None, 32, 32, 128)       0         \n",
      "_________________________________________________________________\n",
      "l10 (Conv2D)                 (None, 32, 32, 128)       147584    \n",
      "_________________________________________________________________\n",
      "l10_p (MaxPooling2D)         (None, 8, 8, 128)         0         \n",
      "_________________________________________________________________\n",
      "l12_p (MaxPooling2D)         (None, 4, 4, 128)         0         \n",
      "_________________________________________________________________\n",
      "reshape (Reshape)            (None, 2, 2, 2, 256)      0         \n",
      "_________________________________________________________________\n",
      "ld1 (Conv3DTranspose)        (None, 4, 4, 4, 128)      884864    \n",
      "_________________________________________________________________\n",
      "ld2 (Conv3DTranspose)        (None, 4, 4, 4, 128)      16512     \n",
      "_________________________________________________________________\n",
      "ld3 (Conv3DTranspose)        (None, 8, 8, 8, 96)       98400     \n",
      "_________________________________________________________________\n",
      "ld4 (Conv3DTranspose)        (None, 8, 8, 8, 96)       9312      \n",
      "_________________________________________________________________\n",
      "ld5 (Conv3DTranspose)        (None, 16, 16, 16, 96)    73824     \n",
      "_________________________________________________________________\n",
      "ld6 (Conv3DTranspose)        (None, 16, 16, 16, 64)    6208      \n",
      "_________________________________________________________________\n",
      "ld7 (Conv3DTranspose)        (None, 32, 32, 32, 64)    32832     \n",
      "_________________________________________________________________\n",
      "ld8 (Conv3DTranspose)        (None, 32, 32, 32, 64)    4160      \n",
      "_________________________________________________________________\n",
      "ld9 (Conv3DTranspose)        (None, 128, 128, 128, 16) 65552     \n",
      "_________________________________________________________________\n",
      "ld10 (Conv3DTranspose)       (None, 128, 128, 128, 8)  136       \n",
      "_________________________________________________________________\n",
      "ld11 (Conv3DTranspose)       (None, 256, 256, 256, 1)  65        \n",
      "_________________________________________________________________\n",
      "reshape_1 (Reshape)          (None, 1, 256, 256, 256)  0         \n",
      "=================================================================\n",
      "Total params: 1,709,369\n",
      "Trainable params: 1,709,369\n",
      "Non-trainable params: 0\n",
      "_________________________________________________________________\n"
     ]
    }
   ],
   "source": [
    "#with tf.device('/device:GPU:0'):\n",
    "input_img=Input(shape=(256,256,3))\n",
    "\n",
    "l1=tf.keras.layers.Conv2D(32,(3,3),name='l1',padding='same',strides=(1,1),activation='relu',activity_regularizer=regularizers.l1(10e-10))(input_img)\n",
    "l2=tf.keras.layers.MaxPooling2D(strides=(2,2),name='l2_p')(l1)\n",
    "\n",
    "l3=tf.keras.layers.Conv2D(256,(3,3),name='l6',padding='same',strides=(1,1),activation='relu',activity_regularizer=regularizers.l1(10e-10))(l2)\n",
    "\n",
    "l4=tf.keras.layers.MaxPooling2D(strides=(2,2),name='l6_p')(l3)\n",
    "l5=tf.keras.layers.Conv2D(128,(3,3),name='l8',padding='same',strides=(1,1),activation='relu',activity_regularizer=regularizers.l1(10e-10))(l4)\n",
    "\n",
    "l6=tf.keras.layers.MaxPooling2D(strides=(2,2),name='l8_p')(l5)\n",
    "\n",
    "l7=tf.keras.layers.Conv2D(128,(3,3),name='l10',padding='same',strides=(1,1),activation='relu',activity_regularizer=regularizers.l1(10e-10))(l6)\n",
    "\n",
    "l8=tf.keras.layers.MaxPooling2D(strides=(4,4),name='l10_p')(l7)\n",
    "\n",
    "l9=tf.keras.layers.MaxPooling2D(strides=(2,2),name='l12_p')(l8)\n",
    "\n",
    "  #l10=tf.keras.layers.Dense(256 ,name='lfc1',activation='relu')(l10)\n",
    "\n",
    "  \n",
    "l11=tf.keras.layers.Reshape((2,2,2,256))(l9)\n",
    "  \n",
    "\n",
    "l12=tf.keras.layers.Conv3DTranspose(128,(3,3,3),strides=(1,1,1),name='ld1',activation='relu',activity_regularizer=regularizers.l1(10e-10))(l11)\n",
    "\n",
    "l13=tf.keras.layers.Conv3DTranspose(128,(1,1,1),strides=(1,1,1),name='ld2',activation='relu',activity_regularizer=regularizers.l1(10e-10))(l12)\n",
    "\n",
    "l14=tf.keras.layers.Conv3DTranspose(96,(2,2,2),strides=(2,2,2),name='ld3',activation='relu',activity_regularizer=regularizers.l1(10e-10))(l13)\n",
    "\n",
    "l15=tf.keras.layers.Conv3DTranspose(96,(1,1,1),strides=(1,1,1),name='ld4',activation='relu',activity_regularizer=regularizers.l1(10e-10))(l14)\n",
    "\n",
    "l16=tf.keras.layers.Conv3DTranspose(96,(2,2,2),strides=(2,2,2),name='ld5',activation='relu',activity_regularizer=regularizers.l1(10e-10))(l15)\n",
    "\n",
    "l17=tf.keras.layers.Conv3DTranspose(64,(1,1,1),strides=(1,1,1),name='ld6',activation='relu',activity_regularizer=regularizers.l1(10e-10))(l16)\n",
    "\n",
    "l18=tf.keras.layers.Conv3DTranspose(64,(2,2,2),strides=(2,2,2),name='ld7',activation='relu',activity_regularizer=regularizers.l1(10e-10))(l17)\n",
    "\n",
    "l19=tf.keras.layers.Conv3DTranspose(64,(1,1,1),strides=(1,1,1),name='ld8',activation='relu',activity_regularizer=regularizers.l1(10e-10))(l18)\n",
    "\n",
    "l20=tf.keras.layers.Conv3DTranspose(16,(4,4,4),strides=(4,4,4),name='ld9',activation='relu',activity_regularizer=regularizers.l1(10e-10))(l19)\n",
    "\n",
    "l21=tf.keras.layers.Conv3DTranspose(8,(1,1,1),strides=(1,1,1),name='ld10',activation='relu',activity_regularizer=regularizers.l1(10e-10))(l20)\n",
    "\n",
    "l22=tf.keras.layers.Conv3DTranspose(1,(2,2,2),strides=(2,2,2),name='ld11',activation='relu',activity_regularizer=regularizers.l1(10e-10))(l21)\n",
    "\n",
    "l23=tf.keras.layers.Reshape((1,256,256,256))(l22)\n",
    "\n",
    "#l21=tf.keras.layers.Conv3DTranspose(8,(1,1,1),strides=(1,1,1),name='ld10',activation='relu',activity_regularizer=regularizers.l1(10e-10))(20)\n",
    "\n",
    "#l22=tf.keras.layers.Conv3DTranspose(1,(2,2,2),strides=(2,2,2),name='ld11',activation='relu',activity_regularizer=regularizers.l1(10e-10))(l21)\n",
    "  \n",
    "\n",
    "decoded=l23\n",
    "\n",
    "  \n",
    "\n",
    "\n",
    " \n",
    "autoencoder=Model(input_img,decoded)\n",
    "autoencoder.summary()\n",
    "\n",
    "\n",
    "#with tf.device('/device:GPU:0'):\n",
    "autoencoder.compile(optimizer='adadelta',loss='binary_crossentropy')"
   ]
  },
  {
   "cell_type": "markdown",
   "metadata": {
    "id": "Nl3tUjKw0qq9"
   },
   "source": [
    "#create neural net"
   ]
  },
  {
   "cell_type": "code",
   "execution_count": 8,
   "metadata": {
    "colab": {
     "base_uri": "https://localhost:8080/"
    },
    "id": "xQfjBYNr36q2",
    "outputId": "2247bf2f-bf60-4f05-be9e-edf959298299"
   },
   "outputs": [
    {
     "name": "stderr",
     "output_type": "stream",
     "text": [
      "Using TensorFlow backend.\n"
     ]
    },
    {
     "ename": "TypeError",
     "evalue": "The added layer must be an instance of class Layer. Found: Tensor(\"input_2:0\", shape=(None, 256, 256, 3), dtype=float32)",
     "output_type": "error",
     "traceback": [
      "\u001b[1;31m---------------------------------------------------------------------------\u001b[0m",
      "\u001b[1;31mTypeError\u001b[0m                                 Traceback (most recent call last)",
      "\u001b[1;32m<ipython-input-8-46d64cd31617>\u001b[0m in \u001b[0;36m<module>\u001b[1;34m\u001b[0m\n\u001b[0;32m     18\u001b[0m \u001b[0minputShape\u001b[0m \u001b[1;33m=\u001b[0m \u001b[1;33m(\u001b[0m\u001b[0mHEIGHT\u001b[0m\u001b[1;33m,\u001b[0m \u001b[0mWIDTH\u001b[0m\u001b[1;33m,\u001b[0m \u001b[0mDEPTH\u001b[0m\u001b[1;33m)\u001b[0m\u001b[1;33m\u001b[0m\u001b[1;33m\u001b[0m\u001b[0m\n\u001b[0;32m     19\u001b[0m \u001b[0mchanDim\u001b[0m \u001b[1;33m=\u001b[0m \u001b[1;33m-\u001b[0m\u001b[1;36m1\u001b[0m\u001b[1;33m\u001b[0m\u001b[1;33m\u001b[0m\u001b[0m\n\u001b[1;32m---> 20\u001b[1;33m \u001b[0mmodel\u001b[0m\u001b[1;33m.\u001b[0m\u001b[0madd\u001b[0m\u001b[1;33m(\u001b[0m\u001b[0mtf\u001b[0m\u001b[1;33m.\u001b[0m\u001b[0mkeras\u001b[0m\u001b[1;33m.\u001b[0m\u001b[0mInput\u001b[0m\u001b[1;33m(\u001b[0m\u001b[0mshape\u001b[0m\u001b[1;33m=\u001b[0m\u001b[1;33m(\u001b[0m\u001b[1;36m256\u001b[0m\u001b[1;33m,\u001b[0m \u001b[1;36m256\u001b[0m\u001b[1;33m,\u001b[0m \u001b[1;36m3\u001b[0m\u001b[1;33m)\u001b[0m\u001b[1;33m)\u001b[0m\u001b[1;33m)\u001b[0m\u001b[1;33m\u001b[0m\u001b[1;33m\u001b[0m\u001b[0m\n\u001b[0m\u001b[0;32m     21\u001b[0m \u001b[0mmodel\u001b[0m\u001b[1;33m.\u001b[0m\u001b[0madd\u001b[0m\u001b[1;33m(\u001b[0m\u001b[0mConv2D\u001b[0m\u001b[1;33m(\u001b[0m\u001b[1;36m32\u001b[0m\u001b[1;33m,\u001b[0m\u001b[1;33m(\u001b[0m\u001b[1;36m3\u001b[0m\u001b[1;33m,\u001b[0m\u001b[1;36m3\u001b[0m\u001b[1;33m)\u001b[0m\u001b[1;33m,\u001b[0m\u001b[0mname\u001b[0m\u001b[1;33m=\u001b[0m\u001b[1;34m'l1'\u001b[0m\u001b[1;33m,\u001b[0m\u001b[0mpadding\u001b[0m\u001b[1;33m=\u001b[0m\u001b[1;34m'same'\u001b[0m\u001b[1;33m,\u001b[0m\u001b[0mstrides\u001b[0m\u001b[1;33m=\u001b[0m\u001b[1;33m(\u001b[0m\u001b[1;36m1\u001b[0m\u001b[1;33m,\u001b[0m\u001b[1;36m1\u001b[0m\u001b[1;33m)\u001b[0m\u001b[1;33m,\u001b[0m\u001b[0mactivation\u001b[0m\u001b[1;33m=\u001b[0m\u001b[1;34m'relu'\u001b[0m\u001b[1;33m,\u001b[0m\u001b[0mactivity_regularizer\u001b[0m\u001b[1;33m=\u001b[0m\u001b[0mregularizers\u001b[0m\u001b[1;33m.\u001b[0m\u001b[0ml1\u001b[0m\u001b[1;33m(\u001b[0m\u001b[1;36m10e-10\u001b[0m\u001b[1;33m)\u001b[0m\u001b[1;33m)\u001b[0m\u001b[1;33m)\u001b[0m\u001b[1;33m\u001b[0m\u001b[1;33m\u001b[0m\u001b[0m\n\u001b[0;32m     22\u001b[0m   \u001b[1;31m#model.add(Conv2D(64,(3,3),name='l2',padding='same',strides=(1,1),activation='relu',activity_regularizer=regularizers.l1(10e-10)))##((CONCAT))\u001b[0m\u001b[1;33m\u001b[0m\u001b[1;33m\u001b[0m\u001b[1;33m\u001b[0m\u001b[0m\n",
      "\u001b[1;32mG:\\Anaconda\\envs\\vision\\lib\\site-packages\\keras\\engine\\sequential.py\u001b[0m in \u001b[0;36madd\u001b[1;34m(self, layer)\u001b[0m\n\u001b[0;32m    131\u001b[0m             raise TypeError('The added layer must be '\n\u001b[0;32m    132\u001b[0m                             \u001b[1;34m'an instance of class Layer. '\u001b[0m\u001b[1;33m\u001b[0m\u001b[1;33m\u001b[0m\u001b[0m\n\u001b[1;32m--> 133\u001b[1;33m                             'Found: ' + str(layer))\n\u001b[0m\u001b[0;32m    134\u001b[0m         \u001b[0mself\u001b[0m\u001b[1;33m.\u001b[0m\u001b[0mbuilt\u001b[0m \u001b[1;33m=\u001b[0m \u001b[1;32mFalse\u001b[0m\u001b[1;33m\u001b[0m\u001b[1;33m\u001b[0m\u001b[0m\n\u001b[0;32m    135\u001b[0m         \u001b[1;32mif\u001b[0m \u001b[1;32mnot\u001b[0m \u001b[0mself\u001b[0m\u001b[1;33m.\u001b[0m\u001b[0m_layers\u001b[0m\u001b[1;33m:\u001b[0m\u001b[1;33m\u001b[0m\u001b[1;33m\u001b[0m\u001b[0m\n",
      "\u001b[1;31mTypeError\u001b[0m: The added layer must be an instance of class Layer. Found: Tensor(\"input_2:0\", shape=(None, 256, 256, 3), dtype=float32)"
     ]
    }
   ],
   "source": [
    "from keras.models import Sequential\n",
    "from keras.optimizers import Adam\n",
    "from keras.layers.convolutional import MaxPooling2D\n",
    "from keras.backend import reshape\n",
    "EPOCHS = 25\n",
    "STEPS = 100\n",
    "LR = 1e-3\n",
    "BATCH_SIZE = 32\n",
    "WIDTH = 256\n",
    "HEIGHT = 256\n",
    "DEPTH = 3\n",
    "inputShape = (HEIGHT, WIDTH, DEPTH)\n",
    "chanDim = -1\n",
    "\n",
    "\n",
    "# with tf.device('/device:GPU:0'):\n",
    "model = Sequential()\n",
    "inputShape = (HEIGHT, WIDTH, DEPTH)\n",
    "chanDim = -1\n",
    "model.add(tf.keras.Input(shape=(256, 256, 3)))  \n",
    "model.add(Conv2D(32,(3,3),name='l1',padding='same',strides=(1,1),activation='relu',activity_regularizer=regularizers.l1(10e-10)))\n",
    "  #model.add(Conv2D(64,(3,3),name='l2',padding='same',strides=(1,1),activation='relu',activity_regularizer=regularizers.l1(10e-10)))##((CONCAT))\n",
    "model.add(MaxPooling2D(strides=(2,2),name='l2_p'))\n",
    "  #model.add(Conv2D(96,(3,3),name='l3',padding='same',strides=(1,1),activation='relu',activity_regularizer=regularizers.l1(10e-10)))\n",
    "model.add(Conv2D(96,(3,3),name='l4',padding='same',strides=(1,1),activation='relu',activity_regularizer=regularizers.l1(10e-10)))\n",
    "model.add(MaxPooling2D(strides=(2,2),name='l4_p'))\n",
    "  #model.add(Conv2D(256,(3,3),name='l5',padding='same',strides=(1,1),activation='relu',activity_regularizer=regularizers.l1(10e-10)))\n",
    "model.add(Conv2D(256,(3,3),name='l6',padding='same',strides=(1,1),activation='relu',activity_regularizer=regularizers.l1(10e-10)))\n",
    "model.add(MaxPooling2D(strides=(2,2),name='l6_p'))\n",
    "  #model.add(Conv2D(128,(3,3),name='l7',padding='same',strides=(1,1),activation='relu',activity_regularizer=regularizers.l1(10e-10)))\n",
    "model.add(Conv2D(128,(3,3),name='l8',padding='same',strides=(1,1),activation='relu',activity_regularizer=regularizers.l1(10e-10)))\n",
    "model.add(MaxPooling2D(strides=(2,2),name='l8_p'))\n",
    "  #model.add(Conv2D(256,(3,3),name='l9',padding='same',strides=(1,1),activation='relu',activity_regularizer=regularizers.l1(10e-10)))\n",
    "model.add(Conv2D(128,(3,3),name='l10',padding='same',strides=(1,1),activation='relu',activity_regularizer=regularizers.l1(10e-10)))\n",
    "model.add(MaxPooling2D(strides=(4,4),name='l10_p'))\n",
    "  \n",
    "model.add(MaxPooling2D(strides=(2,2),name='l12_p'))\n",
    "model.add(Dense(256 ,name='lfc1',activation='relu'))\n",
    "  \n",
    "\n",
    "  ###########################SOME LAYER OF ACTIVITY\n",
    "model.add(tf.keras.layers.Reshape((2,2,2,128)))\n",
    "model.add(tf.keras.layers.Conv3DTranspose(128,(3,3,3),strides=(1,1,1),name='ld1',activation='relu',activity_regularizer=regularizers.l1(10e-10)))\n",
    "model.add(tf.keras.layers.Conv3DTranspose(128,(1,1,1),strides=(1,1,1),name='ld2',activation='relu',activity_regularizer=regularizers.l1(10e-10)))\n",
    "model.add(tf.keras.layers.Conv3DTranspose(96,(2,2,2),strides=(2,2,2),name='ld3',activation='relu',activity_regularizer=regularizers.l1(10e-10)))\n",
    "model.add(tf.keras.layers.Conv3DTranspose(96,(1,1,1),strides=(1,1,1),name='ld4',activation='relu',activity_regularizer=regularizers.l1(10e-10)))\n",
    "model.add(tf.keras.layers.Conv3DTranspose(96,(2,2,2),strides=(2,2,2),name='ld5',activation='relu',activity_regularizer=regularizers.l1(10e-10)))\n",
    "model.add(tf.keras.layers.Conv3DTranspose(64,(1,1,1),strides=(1,1,1),name='ld6',activation='relu',activity_regularizer=regularizers.l1(10e-10)))\n",
    "model.add(tf.keras.layers.Conv3DTranspose(64,(2,2,2),strides=(2,2,2),name='ld7',activation='relu',activity_regularizer=regularizers.l1(10e-10)))\n",
    "model.add(tf.keras.layers.Conv3DTranspose(64,(1,1,1),strides=(1,1,1),name='ld8',activation='relu',activity_regularizer=regularizers.l1(10e-10)))\n",
    "model.add(tf.keras.layers.Conv3DTranspose(16,(4,4,4),strides=(4,4,4),name='ld9',activation='relu',activity_regularizer=regularizers.l1(10e-10)))\n",
    "model.add(tf.keras.layers.Conv3DTranspose(8,(1,1,1),strides=(1,1,1),name='ld10',activation='relu',activity_regularizer=regularizers.l1(10e-10)))\n",
    "model.add(tf.keras.layers.Conv3DTranspose(1,(2,2,2),strides=(2,2,2),name='ld11',activation='relu',activity_regularizer=regularizers.l1(10e-10)))\n",
    "  #model.add(tf.keras.layers.Reshape((256,256,256)))\n",
    "  #model.add(tf.keras.layers.Conv3D(64,(3,3,3),padding='same',activation='relu',activity_regularizer=regularizers.l1(10e-10)))\n",
    "model.summary()\n",
    "\n",
    "\n",
    "# Initialize optimizer\n",
    "opt = Adam(lr=LR, decay=LR / EPOCHS)\n",
    "\n",
    "# Compile model\n",
    "model.compile(loss=\"binary_crossentropy\", optimizer=opt, metrics=[\"accuracy\"])\n"
   ]
  },
  {
   "cell_type": "code",
   "execution_count": 9,
   "metadata": {
    "colab": {
     "base_uri": "https://localhost:8080/"
    },
    "id": "0gzs5-lXhJxd",
    "outputId": "c621cd6c-12a5-4cd1-eb0f-e1813201247d"
   },
   "outputs": [
    {
     "ename": "TypeError",
     "evalue": "The added layer must be an instance of class Layer. Found: Tensor(\"input_3:0\", shape=(None, 256, 256, 3), dtype=float32)",
     "output_type": "error",
     "traceback": [
      "\u001b[1;31m---------------------------------------------------------------------------\u001b[0m",
      "\u001b[1;31mTypeError\u001b[0m                                 Traceback (most recent call last)",
      "\u001b[1;32m<ipython-input-9-285f08634a18>\u001b[0m in \u001b[0;36m<module>\u001b[1;34m\u001b[0m\n\u001b[0;32m      1\u001b[0m \u001b[0mm_odel\u001b[0m\u001b[1;33m=\u001b[0m\u001b[0mSequential\u001b[0m\u001b[1;33m(\u001b[0m\u001b[1;33m)\u001b[0m\u001b[1;33m\u001b[0m\u001b[1;33m\u001b[0m\u001b[0m\n\u001b[1;32m----> 2\u001b[1;33m \u001b[0mm_odel\u001b[0m\u001b[1;33m.\u001b[0m\u001b[0madd\u001b[0m\u001b[1;33m(\u001b[0m\u001b[0mtf\u001b[0m\u001b[1;33m.\u001b[0m\u001b[0mkeras\u001b[0m\u001b[1;33m.\u001b[0m\u001b[0mInput\u001b[0m\u001b[1;33m(\u001b[0m\u001b[0mshape\u001b[0m\u001b[1;33m=\u001b[0m\u001b[1;33m(\u001b[0m\u001b[1;36m256\u001b[0m\u001b[1;33m,\u001b[0m \u001b[1;36m256\u001b[0m\u001b[1;33m,\u001b[0m \u001b[1;36m3\u001b[0m\u001b[1;33m)\u001b[0m\u001b[1;33m)\u001b[0m\u001b[1;33m)\u001b[0m\u001b[1;33m\u001b[0m\u001b[1;33m\u001b[0m\u001b[0m\n\u001b[0m\u001b[0;32m      3\u001b[0m \u001b[0mm_odel\u001b[0m\u001b[1;33m.\u001b[0m\u001b[0madd\u001b[0m\u001b[1;33m(\u001b[0m\u001b[0mConv2D\u001b[0m\u001b[1;33m(\u001b[0m\u001b[1;36m32\u001b[0m\u001b[1;33m,\u001b[0m\u001b[1;33m(\u001b[0m\u001b[1;36m3\u001b[0m\u001b[1;33m,\u001b[0m\u001b[1;36m3\u001b[0m\u001b[1;33m)\u001b[0m\u001b[1;33m,\u001b[0m\u001b[0mname\u001b[0m\u001b[1;33m=\u001b[0m\u001b[1;34m'l1'\u001b[0m\u001b[1;33m,\u001b[0m\u001b[0mpadding\u001b[0m\u001b[1;33m=\u001b[0m\u001b[1;34m'same'\u001b[0m\u001b[1;33m,\u001b[0m\u001b[0mstrides\u001b[0m\u001b[1;33m=\u001b[0m\u001b[1;33m(\u001b[0m\u001b[1;36m1\u001b[0m\u001b[1;33m,\u001b[0m\u001b[1;36m1\u001b[0m\u001b[1;33m)\u001b[0m\u001b[1;33m,\u001b[0m\u001b[0mactivation\u001b[0m\u001b[1;33m=\u001b[0m\u001b[1;34m'relu'\u001b[0m\u001b[1;33m,\u001b[0m\u001b[0mactivity_regularizer\u001b[0m\u001b[1;33m=\u001b[0m\u001b[0mregularizers\u001b[0m\u001b[1;33m.\u001b[0m\u001b[0ml1\u001b[0m\u001b[1;33m(\u001b[0m\u001b[1;36m10e-10\u001b[0m\u001b[1;33m)\u001b[0m\u001b[1;33m)\u001b[0m\u001b[1;33m)\u001b[0m\u001b[1;33m\u001b[0m\u001b[1;33m\u001b[0m\u001b[0m\n\u001b[0;32m      4\u001b[0m \u001b[0mm_odel\u001b[0m\u001b[1;33m.\u001b[0m\u001b[0msummary\u001b[0m\u001b[1;33m(\u001b[0m\u001b[1;33m)\u001b[0m\u001b[1;33m\u001b[0m\u001b[1;33m\u001b[0m\u001b[0m\n\u001b[0;32m      5\u001b[0m \u001b[1;31m# Initialize optimizer\u001b[0m\u001b[1;33m\u001b[0m\u001b[1;33m\u001b[0m\u001b[1;33m\u001b[0m\u001b[0m\n",
      "\u001b[1;32mG:\\Anaconda\\envs\\vision\\lib\\site-packages\\keras\\engine\\sequential.py\u001b[0m in \u001b[0;36madd\u001b[1;34m(self, layer)\u001b[0m\n\u001b[0;32m    131\u001b[0m             raise TypeError('The added layer must be '\n\u001b[0;32m    132\u001b[0m                             \u001b[1;34m'an instance of class Layer. '\u001b[0m\u001b[1;33m\u001b[0m\u001b[1;33m\u001b[0m\u001b[0m\n\u001b[1;32m--> 133\u001b[1;33m                             'Found: ' + str(layer))\n\u001b[0m\u001b[0;32m    134\u001b[0m         \u001b[0mself\u001b[0m\u001b[1;33m.\u001b[0m\u001b[0mbuilt\u001b[0m \u001b[1;33m=\u001b[0m \u001b[1;32mFalse\u001b[0m\u001b[1;33m\u001b[0m\u001b[1;33m\u001b[0m\u001b[0m\n\u001b[0;32m    135\u001b[0m         \u001b[1;32mif\u001b[0m \u001b[1;32mnot\u001b[0m \u001b[0mself\u001b[0m\u001b[1;33m.\u001b[0m\u001b[0m_layers\u001b[0m\u001b[1;33m:\u001b[0m\u001b[1;33m\u001b[0m\u001b[1;33m\u001b[0m\u001b[0m\n",
      "\u001b[1;31mTypeError\u001b[0m: The added layer must be an instance of class Layer. Found: Tensor(\"input_3:0\", shape=(None, 256, 256, 3), dtype=float32)"
     ]
    }
   ],
   "source": [
    "m_odel=Sequential()\n",
    "m_odel.add(tf.keras.Input(shape=(256, 256, 3))) \n",
    "m_odel.add(Conv2D(32,(3,3),name='l1',padding='same',strides=(1,1),activation='relu',activity_regularizer=regularizers.l1(10e-10)))\n",
    "m_odel.summary()\n",
    "# Initialize optimizer\n",
    "opt = Adam(lr=LR, decay=LR / EPOCHS)\n",
    "\n",
    "# Compile model\n",
    "m_odel.compile(loss=\"binary_crossentropy\", optimizer=opt, metrics=[\"accuracy\"])"
   ]
  },
  {
   "cell_type": "markdown",
   "metadata": {
    "id": "8ktBLfUXG94C"
   },
   "source": [
    "#NOTES"
   ]
  },
  {
   "cell_type": "markdown",
   "metadata": {
    "id": "UJ60H7sW8aQe"
   },
   "source": [
    "\n",
    "\n",
    "```\n",
    "# This is formatted as code\n",
    "\n",
    "  \"\"\"\n",
    "  model.add(Conv2D(32, (3,3), padding=\"same\",input_shape=inputShape))\n",
    "  \n",
    "  model.add(Activation(\"relu\"))\n",
    "  model.add(BatchNormalization(axis=chanDim))\n",
    "  model.add(MaxPooling2D(pool_size=(2,2)))\n",
    "  model.add(Dropout(0.25))\n",
    "  model.add(Conv2D(64, (3,3), padding=\"same\"))\n",
    "  model.add(Activation(\"relu\"))\n",
    "  model.add(BatchNormalization(axis=chanDim))\n",
    "  model.add(Conv2D(64, (3,3), padding=\"same\"))\n",
    "  model.add(Activation(\"relu\"))\n",
    "  model.add(BatchNormalization(axis=chanDim))\n",
    "  model.add(MaxPooling2D(pool_size=(2, 2)))\n",
    "  model.add(Dropout(0.25))\n",
    "  model.add(Conv2D(128, (3,3), padding=\"same\"))\n",
    "  model.add(Activation(\"relu\"))\n",
    "  model.add(BatchNormalization(axis=chanDim))\n",
    "  model.add(Conv2D(128, (3,3), padding=\"same\"))\n",
    "  model.add(Activation(\"relu\"))\n",
    "  model.add(BatchNormalization(axis=chanDim))\n",
    "  model.add(MaxPooling2D(pool_size=(2, 2)))\n",
    "  model.add(Dropout(0.25))\n",
    "  model.add(Flatten())\n",
    "  model.add(Dense(1024))\n",
    "  model.add(Activation(\"relu\"))\n",
    "  model.add(BatchNormalization())\n",
    "  model.add(Dropout(0.5))\n",
    "  model.add(Dense(n_classes))\n",
    " \n",
    "  model.add(Activation(\"softmax\"))\n",
    "  \"\"\"\n",
    "\n",
    "```\n",
    "\n"
   ]
  },
  {
   "cell_type": "markdown",
   "metadata": {
    "id": "n4UVGRJmGSRD"
   },
   "source": [
    "\n",
    "\n",
    "```\n",
    "# This is formatted as code\n",
    "\n",
    "with tf.device('/device:GPU:0'):\n",
    "\n",
    "  EPOCHS = 25\n",
    "  STEPS = 100\n",
    "  LR = 1e-3\n",
    "  BATCH_SIZE = 32\n",
    "  WIDTH = 256\n",
    "  HEIGHT = 256\n",
    "  DEPTH = 3\n",
    "\n",
    "  inputShape = (HEIGHT, WIDTH, DEPTH)\n",
    "  chanDim = -1\n",
    "\n",
    "\n",
    "  input_img=Input(shape=(256,256,3),name='InputThas')\n",
    "  #odel.add(Conv2D(32, (3,3), padding=\"same\",input_shape=inputShape))\n",
    "  #Conv2D(64,(3,3),padding='same',activation='relu',activity_regularizer=regularizers.l1(10e-10))(input_img)\n",
    "  l1=tf.keras.layers.Conv2D(96,(7,7),name='l1',padding='same',strides=(1,1),activation='relu',input_shape=inputShape,activity_regularizer=regularizers.l1(10e-10))(input_img)\n",
    "  l2=tf.keras.layers.Conv2D(96,(3,3),name='l2',padding='same',strides=(1,1),activation='relu',activity_regularizer=regularizers.l1(10e-10))(l1)\n",
    "  l2=tf.keras.layers.MaxPool2D(strides=(2,2),name='l2_p')(l2)\n",
    "  l3=tf.keras.layers.Conv2D(128,(3,3),name='l3',padding='same',strides=(1,1),activation='relu',activity_regularizer=regularizers.l1(10e-10))(l2)\n",
    "  l4=tf.keras.layers.Conv2D(128,(3,3),name='l4',padding='same',strides=(1,1),activation='relu',activity_regularizer=regularizers.l1(10e-10))(l3)############\n",
    "  l22=tf.keras.layers.Conv2D(128,(1,1),name='l22',padding='same',strides=(1,1),activation='relu',activity_regularizer=regularizers.l1(10e-10))(l2)#??\n",
    "  l4=l4+l22############??\n",
    "  \"\"\"\n",
    "  l4=tf.keras.layers.MaxPool2D(strides=(2,2),name='l4_p')(l4)\n",
    "  l5=tf.keras.layers.Conv2D(128,(3,3),name='l5',padding='same',strides=(1,1),activation='relu',activity_regularizer=regularizers.l1(10e-10))(l4)\n",
    "  l6=tf.keras.layers.Conv2D(128,(3,3),name='l6',padding='same',strides=(1,1),activation='relu',activity_regularizer=regularizers.l1(10e-10))(l5)\n",
    "  l44=tf.keras.layers.Conv2D(128,(1,1),name='l44',padding='same',strides=(1,1),activation='relu',activity_regularizer=regularizers.l1(10e-10))(l4)\n",
    "  l6=l6+l44\n",
    "  \"\"\"\n",
    "  l6=tf.keras.layers.MaxPool2D(strides=(2,2),name='l6_p')(l6)###\n",
    "  l7=tf.keras.layers.Conv2D(256,(3,3),name='l7',padding='same',strides=(1,1),activation='relu',activity_regularizer=regularizers.l1(10e-10))(l4)###\n",
    "  l8=tf.keras.layers.Conv2D(256,(3,3),name='l8',padding='same',strides=(1,1),activation='relu',activity_regularizer=regularizers.l1(10e-10))(l7)###\n",
    "  \"\"\"\n",
    "  l66=tf.keras.layers.Conv2D(256,(1,1),name='l66',padding='same',strides=(1,1),activation='relu',activity_regularizer=regularizers.l1(10e-10))(l4)\n",
    "  l8=l8+l66\n",
    "  \n",
    "  l8=tf.keras.layers.MaxPool2D(strides=(2,2),name='l8_p')(l8)\n",
    "  \"\"\"\n",
    "  l9=tf.keras.layers.Conv2D(256,(3,3),name='l9',padding='same',strides=(1,1),activation='relu',activity_regularizer=regularizers.l1(10e-10))(l8)###\n",
    "  l10=tf.keras.layers.Conv2D(256,(3,3),name='l10',padding='same',strides=(1,1),activation='relu',activity_regularizer=regularizers.l1(10e-10))(l9)###\n",
    "  l88=tf.keras.layers.Conv2D(256,(1,1),name='l88',padding='same',strides=(1,1),activation='relu',activity_regularizer=regularizers.l1(10e-10))(l8)#??\n",
    "  l10=l10+l8#??\n",
    "  l10=tf.keras.layers.MaxPool2D(strides=(4,4),name='l10_p')(l10)###\n",
    "  \n",
    "  \"\"\"\n",
    "  l11=tf.keras.layers.Conv2D(256,(3,3),name='l11',padding='same',strides=(1,1),activation='relu',activity_regularizer=regularizers.l1(10e-10))(l10)\n",
    "  l12=tf.keras.layers.Conv2D(256,(3,3),name='l12',padding='same',strides=(1,1),activation='relu',activity_regularizer=regularizers.l1(10e-10))(l11)#\n",
    "  l1010=tf.keras.layers.Conv2D(256,(1,1),name='l1010',padding='same',strides=(1,1),activation='relu',activity_regularizer=regularizers.l1(10e-10))(l10)\n",
    "  l12=l12+l1010\n",
    "  l12=tf.keras.layers.MaxPool2D(strides=(2,2),name='l12_p')(l12)\n",
    "\"\"\"\n",
    "  #l14=tf.reshape(l12,(-1,4*4*256))\n",
    "  fc=tf.keras.layers.Dense(4096 ,name='lfc1',activation='relu')(l10)###\n",
    "\n",
    "\n",
    "  #input=tf.reshape(fc,[-1,16,256])\n",
    "  #tpinput=tf.reshape(input,[-1,16*265-144] )\n",
    "  #weight=tf.keras.layers.Dense(4096 ,name='lfcw',activation='relu')(tpinput)\n",
    "  #weight=tf.reshape(weight,[-1,16*16*16])\n",
    "  #fc=tf.keras.layers.Dense(16*256 ,name='lfc2',activation='relu')(input)####This may fail from here onwards\n",
    "\n",
    "\n",
    "\n",
    "  ##weights=tf.math.softmax(weight,axis=1,name=\"SOFTMAX\")\n",
    "  #Input1s=tpinput*weights\n",
    "  #Input1s=tf.math.reduce_sum(Input1s,axis=1,keepdims=True,name=\"REDUCED_sUM\")\n",
    "  #Input1s=tf.reshape(Input1s,[-1,4096])\n",
    "  Vox=tf.keras.layers.Dense(4096 ,name='lfcV',activation='relu')(fc)###\n",
    "  Vox=tf.reshape(Vox,[-1,4096])\n",
    "  Vox=tf.reshape(Vox,[-1,2,2,2,256])###\n",
    "  d1=tf.keras.layers.Conv3DTranspose(256,(3,3,3),strides=(1,1,1),name='ld1',activation='relu',activity_regularizer=regularizers.l1(10e-10))(Vox)\n",
    "  d2=tf.keras.layers.Conv3DTranspose(256,(1,1,1),strides=(1,1,1),name='ld2',activation='relu',activity_regularizer=regularizers.l1(10e-10))(d1)##\n",
    "  d00=tf.keras.layers.Conv3DTranspose(256,(1,1,1),strides=(2,2,2),name='ld00',activation='relu',activity_regularizer=regularizers.l1(10e-10))(Vox)\n",
    "  d2=d2+d00\n",
    "\n",
    "  d3=tf.keras.layers.Conv3DTranspose(256,(2,2,2),strides=(2,2,2),name='ld3',activation='relu',activity_regularizer=regularizers.l1(10e-10))(d2)##\n",
    "  d4=tf.keras.layers.Conv3DTranspose(256,(1,1,1),strides=(1,1,1),name='ld4',activation='relu',activity_regularizer=regularizers.l1(10e-10))(d3)#\n",
    "  d22=tf.keras.layers.Conv3DTranspose(256,(1,1,1),strides=(2,2,2),name='ld22',activation='relu',activity_regularizer=regularizers.l1(10e-10))(d2)\n",
    "  d4=d4+d22\n",
    "\n",
    "  d5=tf.keras.layers.Conv3DTranspose(256,(2,2,2),strides=(2,2,2),name='ld5',activation='relu',activity_regularizer=regularizers.l1(10e-10))(d4)\n",
    "  d6=tf.keras.layers.Conv3DTranspose(256,(1,1,1),strides=(1,1,1),name='ld6',activation='relu',activity_regularizer=regularizers.l1(10e-10))(d5)\n",
    "  d44=tf.keras.layers.Conv3DTranspose(256,(1,1,1),strides=(2,2,2),name='ld44',activation='relu',activity_regularizer=regularizers.l1(10e-10))(d4)\n",
    "  d6=d6+d44\n",
    "\n",
    "  d7=tf.keras.layers.Conv3DTranspose(128,(2,2,2),strides=(2,2,2),name='ld7',activation='relu',activity_regularizer=regularizers.l1(10e-10))(d6)\n",
    "  d8=tf.keras.layers.Conv3DTranspose(128,(1,1,1),strides=(1,1,1),name='ld8',activation='relu',activity_regularizer=regularizers.l1(10e-10))(d7)##\n",
    "  d77=tf.keras.layers.Conv3DTranspose(128,(1,1,1),strides=(1,1,1),name='ld77',activation='relu',activity_regularizer=regularizers.l1(10e-10))(d7)\n",
    "  d8=d8+d77\n",
    "\n",
    "  \"\"\"\n",
    "  d9=tf.keras.layers.Conv3DTranspose(128,(2,2,2),strides=(2,2,2),name='ld9',activation='relu',activity_regularizer=regularizers.l1(10e-10))(d8)#\n",
    "  d10=tf.keras.layers.Conv3DTranspose(128,(1,1,1),strides=(1,1,1),name='ld10',activation='relu',activity_regularizer=regularizers.l1(10e-10))(d9)##\n",
    "  d99=tf.keras.layers.Conv3DTranspose(128,(1,1,1),strides=(1,1,1),name='ld99',activation='relu',activity_regularizer=regularizers.l1(10e-10))(d9)\n",
    "  d10=d10+d99\n",
    "\n",
    "  \"\"\"\n",
    "  d11=tf.keras.layers.Conv3DTranspose(64,(2,2,2),strides=(2,2,2),name='ld11',activation='relu',activity_regularizer=regularizers.l1(10e-10))(d8)\n",
    "  d12=tf.keras.layers.Conv3DTranspose(64,(1,1,1),strides=(1,1,1),name='ld12',activation='relu',activity_regularizer=regularizers.l1(10e-10))(d11)#\n",
    "  d1212=tf.keras.layers.Conv3DTranspose(64,(1,1,1),strides=(1,1,1),name='ld1212',activation='relu',activity_regularizer=regularizers.l1(10e-10))(d11)\n",
    "  d12=d12+d1212\n",
    "\n",
    "\n",
    "  d13=tf.keras.layers.Conv3DTranspose(32,(2,2,2),strides=(2,2,2),name='ld13',activation='relu',activity_regularizer=regularizers.l1(10e-10))(d12)\n",
    "\n",
    "  d13=tf.math.sigmoid(d13)\n",
    "  d13=tf.reshape(d13,[-1,256,256,256,256])\n",
    "\n",
    "  d14=tf.keras.layers.Conv3D(256,(3,3,3),name='D14',padding='same',activation='relu',activity_regularizer=regularizers.l1(10e-10))(d13)\n",
    "  decoded=d14\n",
    "\n",
    "\n",
    "\n",
    "  #tf.keras.layers.Dense(\n",
    "      #units, activation=None, use_bias=True,\n",
    "      #kernel_initializer='glorot_uniform',\n",
    "      #bias_initializer='zeros', kernel_regularizer=None,\n",
    "      #bias_regularizer=None, activity_regularizer=None, kernel_constraint=None,\n",
    "      #bias_constraint=None, **kwargs\n",
    "  #)\n",
    "  #decoded=input\n",
    "\n",
    "  autoencoder=Model(input_img,decoded)\n",
    "  autoencoder.summary()\n",
    "  autoencoder.compile()\n",
    "  autoencoder.compile(optimizer='adadelta',loss='mean_squared_error')\n",
    "\n",
    "```\n",
    "\n"
   ]
  },
  {
   "cell_type": "code",
   "execution_count": null,
   "metadata": {
    "id": "XN1iB_7vGR9L"
   },
   "outputs": [],
   "source": []
  },
  {
   "cell_type": "code",
   "execution_count": null,
   "metadata": {
    "id": "btDUFxulPlfd"
   },
   "outputs": [],
   "source": []
  },
  {
   "cell_type": "markdown",
   "metadata": {
    "id": "F0k8cwNpP12z"
   },
   "source": [
    "#Load address3 [V]"
   ]
  },
  {
   "cell_type": "code",
   "execution_count": 8,
   "metadata": {
    "colab": {
     "base_uri": "https://localhost:8080/"
    },
    "id": "YXTzPeAIP5Hy",
    "outputId": "235456d2-8a9e-4e1d-b80c-863203fbf096"
   },
   "outputs": [
    {
     "name": "stdout",
     "output_type": "stream",
     "text": [
      "gdrive\tsample_data  test_imgs\ttrain_imgs  train_voxels  val_imgs  val_voxels\n",
      "96\n",
      "96\n",
      "8\n",
      "96\n",
      "8\n"
     ]
    }
   ],
   "source": [
    "!ls\n",
    "Test_Imgs=pathFinder('./test_imgs')\n",
    "Train_Imgs=pathFinder('./train_imgs')\n",
    "Train_Voxels=pathFinder('./train_voxels')\n",
    "Val_Imgs=pathFinder('./val_imgs')\n",
    "Val_Voxels=pathFinder('./val_voxels')\n",
    "Size=8\n",
    "Test_Imgs=Test_Imgs[:Size*12]\n",
    "Train_Imgs=Train_Imgs[:Size*12]\n",
    "Train_Voxels=Train_Voxels[:Size]\n",
    "Val_Imgs=Val_Imgs[:Size*12]\n",
    "\n",
    "Val_Voxels=Val_Voxels[:Size]\n",
    "print(len(Test_Imgs))\n",
    "print(len(Train_Imgs))\n",
    "print(len(Train_Voxels))\n",
    "print(len(Val_Imgs))\n",
    "print(len(Val_Voxels))"
   ]
  },
  {
   "cell_type": "markdown",
   "metadata": {
    "id": "QfIZ_9faQHO5"
   },
   "source": [
    "#Train neural Net [x]"
   ]
  },
  {
   "cell_type": "code",
   "execution_count": 9,
   "metadata": {
    "colab": {
     "base_uri": "https://localhost:8080/"
    },
    "id": "_flbfPoeQKN7",
    "outputId": "d3d8887d-e03b-4c31-ca7c-4b86b54ac1e5"
   },
   "outputs": [
    {
     "name": "stdout",
     "output_type": "stream",
     "text": [
      "Done!\n"
     ]
    }
   ],
   "source": [
    "Xpred=[]\n",
    "Ypred=[]\n",
    "Xval=[]\n",
    "Yval=[]\n",
    "\n",
    "for i in range(Size):\n",
    "  for j in range(12):\n",
    "    \n",
    "    Xpred.append(Collect_image(Train_Imgs[j+i*12]))\n",
    "    Xval.append(Collect_image(Val_Imgs[j+i*12]))\n",
    "    Ypred.append(Collect_voxel(Train_Voxels[i]))\n",
    "    Yval.append(Collect_voxel(Val_Voxels[i]))\n",
    "print('Done!')\n"
   ]
  },
  {
   "cell_type": "code",
   "execution_count": 10,
   "metadata": {
    "colab": {
     "base_uri": "https://localhost:8080/"
    },
    "id": "kYTnVHcCYeyo",
    "outputId": "77f42e04-3857-46c8-fea5-23a6dbb5c382"
   },
   "outputs": [
    {
     "name": "stdout",
     "output_type": "stream",
     "text": [
      "(96, 1, 256, 256, 3)\n",
      "(96, 1, 256, 256, 256)\n",
      "(96, 1, 256, 256, 3)\n",
      "(96, 1, 256, 256, 256)\n"
     ]
    }
   ],
   "source": [
    "\n",
    "print(np.array(Xpred).shape)\n",
    "print(np.array(Ypred).shape)\n",
    "print(np.array(Xval).shape)\n",
    "print(np.array(Yval).shape)\n"
   ]
  },
  {
   "cell_type": "code",
   "execution_count": null,
   "metadata": {
    "colab": {
     "base_uri": "https://localhost:8080/"
    },
    "id": "3arxWIeVzhIb",
    "outputId": "31288ff3-e5a0-4c0d-f4ee-559196add5bb"
   },
   "outputs": [
    {
     "name": "stdout",
     "output_type": "stream",
     "text": [
      "Epoch 1/50\n",
      "16/16 [==============================] - ETA: 0s - loss: 0.0060"
     ]
    }
   ],
   "source": [
    "#with tf.device('/device:GPU:0'):\n",
    "autoencoder.fit(Xpred, Ypred,\n",
    "                      validation_data=(Xval, Yval),\n",
    "                            epochs=50,\n",
    "                            batch_size=4,steps_per_epoch=len(Xpred) // 6,shuffle=True ,verbose=1)"
   ]
  },
  {
   "cell_type": "code",
   "execution_count": null,
   "metadata": {
    "colab": {
     "base_uri": "https://localhost:8080/"
    },
    "id": "Xy2pyqsd3PBb",
    "outputId": "a49dcf27-8981-4bd3-cb98-a187ab6c2dcd"
   },
   "outputs": [
    {
     "name": "stdout",
     "output_type": "stream",
     "text": [
      "(1, 1, 256, 256, 256)\n"
     ]
    }
   ],
   "source": [
    "Data=autoencoder.predict(Xpred[0])\n",
    "print(Data.shape)"
   ]
  },
  {
   "cell_type": "markdown",
   "metadata": {
    "id": "kyjHU1FE0ikR"
   },
   "source": [
    "##Sapce"
   ]
  },
  {
   "cell_type": "code",
   "execution_count": null,
   "metadata": {
    "colab": {
     "base_uri": "https://localhost:8080/"
    },
    "id": "y9eiN3-YX5MT",
    "outputId": "a7630328-a46c-4c51-b363-c4febde08ba4"
   },
   "outputs": [
    {
     "name": "stdout",
     "output_type": "stream",
     "text": [
      "Epoch 1/12\n",
      "1/1 [==============================] - 1s 720ms/step - loss: 0.0905 - accuracy: 0.0013 - val_loss: 0.2766 - val_accuracy: 0.0029\n",
      "Epoch 2/12\n",
      "1/1 [==============================] - 0s 100ms/step - loss: 0.0430 - accuracy: 0.0032 - val_loss: 0.2559 - val_accuracy: 0.0038\n",
      "Epoch 3/12\n",
      "1/1 [==============================] - 0s 98ms/step - loss: 0.0405 - accuracy: 0.0037 - val_loss: 0.2449 - val_accuracy: 0.0051\n",
      "Epoch 4/12\n",
      "1/1 [==============================] - 0s 97ms/step - loss: 0.0393 - accuracy: 0.0042 - val_loss: 0.2376 - val_accuracy: 0.0061\n",
      "Epoch 5/12\n",
      "1/1 [==============================] - 0s 96ms/step - loss: 0.0386 - accuracy: 0.0045 - val_loss: 0.2323 - val_accuracy: 0.0067\n",
      "Epoch 6/12\n",
      "1/1 [==============================] - 0s 100ms/step - loss: 0.0382 - accuracy: 0.0044 - val_loss: 0.2283 - val_accuracy: 0.0072\n",
      "Epoch 7/12\n",
      "1/1 [==============================] - 0s 98ms/step - loss: 0.0379 - accuracy: 0.0045 - val_loss: 0.2250 - val_accuracy: 0.0079\n",
      "Epoch 8/12\n",
      "1/1 [==============================] - 0s 97ms/step - loss: 0.0377 - accuracy: 0.0046 - val_loss: 0.2224 - val_accuracy: 0.0082\n",
      "Epoch 9/12\n",
      "1/1 [==============================] - 0s 99ms/step - loss: 0.0376 - accuracy: 0.0046 - val_loss: 0.2202 - val_accuracy: 0.0084\n",
      "Epoch 10/12\n",
      "1/1 [==============================] - 0s 98ms/step - loss: 0.0375 - accuracy: 0.0045 - val_loss: 0.2183 - val_accuracy: 0.0086\n",
      "Epoch 11/12\n",
      "1/1 [==============================] - 0s 98ms/step - loss: 0.0374 - accuracy: 0.0043 - val_loss: 0.2166 - val_accuracy: 0.0088\n",
      "Epoch 12/12\n",
      "1/1 [==============================] - 0s 100ms/step - loss: 0.0373 - accuracy: 0.0042 - val_loss: 0.2152 - val_accuracy: 0.0086\n"
     ]
    },
    {
     "data": {
      "text/plain": [
       "<tensorflow.python.keras.callbacks.History at 0x7f71482d2710>"
      ]
     },
     "execution_count": 13,
     "metadata": {
      "tags": []
     },
     "output_type": "execute_result"
    }
   ],
   "source": [
    "#with tf.device('/device:GPU:0'):\n",
    "#for i in range(len[Xpred]):  #\n",
    "model.fit(Xpred[0],Ypred[0],validation_data=(Xval[0],Yval[0]),batch_size=12,epochs=12,shuffle=True)\n"
   ]
  },
  {
   "cell_type": "code",
   "execution_count": null,
   "metadata": {
    "id": "4H7hv56TTTUw"
   },
   "outputs": [],
   "source": []
  },
  {
   "cell_type": "markdown",
   "metadata": {
    "id": "qjoebo7JHr9O"
   },
   "source": [
    "\n",
    "\n",
    "```\n",
    "  history = model.fit(augment.flow(Xpred, Ypred, batch_size=BATCH_SIZE),\n",
    "                              validation_data=(Xval, Yval),\n",
    "                              steps_per_epoch=len(Xpred) // BATCH_SIZE,\n",
    "                              epochs=EPOCHS, \n",
    "                              verbose=1)\n",
    "# This is formatted as code\n",
    "with tf.device('/device:GPU:1'):\n",
    "  autoencoder.fit(Xpred, Ypred,\n",
    "                      validation_data=(Xval, Yval),\n",
    "                            epochs=4,\n",
    "                            batch_size=108,shuffle=True )\n",
    "```\n",
    "\n"
   ]
  },
  {
   "cell_type": "markdown",
   "metadata": {
    "id": "HedMV_77QKvm"
   },
   "source": [
    "#Predict neural net [x]"
   ]
  },
  {
   "cell_type": "code",
   "execution_count": null,
   "metadata": {
    "colab": {
     "base_uri": "https://localhost:8080/",
     "height": 86
    },
    "id": "h8xbjfyyQQiK",
    "outputId": "5d7f0e2b-3277-4b60-b153-a14ef8cc8c3c"
   },
   "outputs": [
    {
     "name": "stdout",
     "output_type": "stream",
     "text": [
      "(1, 256, 256, 256)\n"
     ]
    },
    {
     "data": {
      "application/vnd.google.colaboratory.intrinsic+json": {
       "type": "string"
      },
      "text/plain": [
       "\"\\nfrom mpl_toolkits.mplot3d import Axes3D\\nimport numpy as np\\nimport matplotlib.pyplot as plt\\nimport scipy.io\\n\\nmatnp=Model[0][0]\\n\\n\\n\\nVoxel= np.array(matnp, dtype=bool)\\nprint(Voxel.shape)\\n\\ncolors = np.empty(Voxel.shape, dtype=object)\\n\\ncolors[Voxel] = 'green'\\n\\nfig = plt.figure()\\nax = fig.gca(projection='3d')\\nax.voxels(Voxel, facecolors=colors, edgecolor='k')\\n\\nplt.show() \\n\""
      ]
     },
     "execution_count": 14,
     "metadata": {
      "tags": []
     },
     "output_type": "execute_result"
    }
   ],
   "source": [
    "Model=model.predict(Xpred[0])\n",
    "print(Model.shape)\n",
    "\"\"\"\n",
    "from mpl_toolkits.mplot3d import Axes3D\n",
    "import numpy as np\n",
    "import matplotlib.pyplot as plt\n",
    "import scipy.io\n",
    "\n",
    "matnp=Model[0][0]\n",
    "\n",
    "\n",
    "\n",
    "Voxel= np.array(matnp, dtype=bool)\n",
    "print(Voxel.shape)\n",
    "\n",
    "colors = np.empty(Voxel.shape, dtype=object)\n",
    "\n",
    "colors[Voxel] = 'green'\n",
    "\n",
    "fig = plt.figure()\n",
    "ax = fig.gca(projection='3d')\n",
    "ax.voxels(Voxel, facecolors=colors, edgecolor='k')\n",
    "\n",
    "plt.show() \n",
    "\"\"\""
   ]
  },
  {
   "cell_type": "code",
   "execution_count": null,
   "metadata": {
    "colab": {
     "base_uri": "https://localhost:8080/"
    },
    "id": "xql4AX7x3wrP",
    "outputId": "57869f39-81b6-479f-d42d-7470e617c4fd"
   },
   "outputs": [
    {
     "name": "stdout",
     "output_type": "stream",
     "text": [
      "(256, 256, 256)\n"
     ]
    }
   ],
   "source": [
    "print(Data[0][0].shape)"
   ]
  },
  {
   "cell_type": "code",
   "execution_count": null,
   "metadata": {
    "colab": {
     "base_uri": "https://localhost:8080/"
    },
    "id": "G5jHyPg8VQJJ",
    "outputId": "6d7dcfb7-d4f9-4c95-9358-075631dbf93d"
   },
   "outputs": [
    {
     "name": "stdout",
     "output_type": "stream",
     "text": [
      "(256, 256, 256)\n",
      "1.9626507561112038e-05\n"
     ]
    }
   ],
   "source": [
    "import numpy as np\n",
    "\n",
    "def evaluate_voxel_prediction(prediction,gt):\n",
    "  \"\"\"  The prediction and gt are 3 dim voxels. Each voxel has values 1 or 0\"\"\"\n",
    "  intersection = np.sum(np.logical_and(prediction,gt))\n",
    "  union = np.sum(np.logical_or(prediction,gt))\n",
    "  IoU = intersection / union\n",
    "  return IoU\n",
    "\n",
    "mat=scipy.io.loadmat('model.mat')['input'][0]\n",
    "pred=Data[0][0]\n",
    "print(pred.shape)\n",
    "IOU=evaluate_voxel_prediction(pred,mat)\n",
    "print(IOU)"
   ]
  },
  {
   "cell_type": "markdown",
   "metadata": {
    "id": "XJD5DiJCQRhJ"
   },
   "source": [
    "#Print a predicted example[x]"
   ]
  },
  {
   "cell_type": "code",
   "execution_count": null,
   "metadata": {
    "id": "k0fuoQ_oQYtM"
   },
   "outputs": [],
   "source": []
  },
  {
   "cell_type": "markdown",
   "metadata": {
    "id": "0AN5HIxMQZ_T"
   },
   "source": [
    "# Show accuracy [x]"
   ]
  },
  {
   "cell_type": "code",
   "execution_count": null,
   "metadata": {
    "id": "AfbeNDocQc0d"
   },
   "outputs": [],
   "source": []
  }
 ],
 "metadata": {
  "accelerator": "GPU",
  "colab": {
   "collapsed_sections": [
    "p_5tUn7RPDoy",
    "TSoQKZ-ePMMm",
    "UblTm8HwRutR",
    "EswEdUxZUmbv",
    "9-qHC92RPTbP",
    "BVqThPUmvt2b",
    "8ktBLfUXG94C",
    "F0k8cwNpP12z",
    "XJD5DiJCQRhJ",
    "0AN5HIxMQZ_T"
   ],
   "name": "Copy of IwillShowTHisoneXXX.ipynb",
   "provenance": []
  },
  "kernelspec": {
   "display_name": "Python 3",
   "language": "python",
   "name": "python3"
  },
  "language_info": {
   "codemirror_mode": {
    "name": "ipython",
    "version": 3
   },
   "file_extension": ".py",
   "mimetype": "text/x-python",
   "name": "python",
   "nbconvert_exporter": "python",
   "pygments_lexer": "ipython3",
   "version": "3.7.9"
  }
 },
 "nbformat": 4,
 "nbformat_minor": 1
}
